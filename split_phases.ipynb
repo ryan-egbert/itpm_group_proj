{
 "cells": [
  {
   "cell_type": "code",
   "execution_count": 186,
   "metadata": {
    "scrolled": true
   },
   "outputs": [
    {
     "name": "stdout",
     "output_type": "stream",
     "text": [
      "3\n"
     ]
    }
   ],
   "source": [
    "import pandas as pd\n",
    "import os\n",
    "import numpy as np\n",
    "import datetime as dt\n",
    "from shutil import which, copyfileobj\n",
    "import gzip\n",
    "\n",
    "LOC = 'ny' # 'ny', 'paris', 'london'\n",
    "\n",
    "print(len(os.listdir(f'./data/{LOC}/')))\n",
    "if len(os.listdir(f'./data/{LOC}/')) == 0:\n",
    "    if which('wget') is None:\n",
    "        %conda install wget\n",
    "#     if LOC == 'ny':\n",
    "#         !wget http://data.insideairbnb.com/united-states/new-york-city/ny/2021-07-06/data/listings.csv.gz\n",
    "#         !wget http://data.insideairbnb.com/united-states/new-york-city/ny/2021-07-06/data/reviews.csv.gz\n",
    "#     elif LOC == 'paris':\n",
    "#         !wget http://data.insideairbnb.com/france/ile-de-france/paris/2021-07-06/data/listings.csv.gz\n",
    "#         !wget http://data.insideairbnb.com/france/ile-de-france/paris/2021-07-06/data/reviews.csv.gz\n",
    "#     elif LOC == 'london':\n",
    "#         !wget http://data.insideairbnb.com/united-kingdom/england/london/2021-07-06/data/listings.csv.gz\n",
    "#         !wget http://data.insideairbnb.com/united-kingdom/england/london/2021-07-06/data/reviews.csv.gz\n",
    "\n",
    "    with gzip.open(f'./reviews.csv.gz', 'rb') as f_in:\n",
    "        with open(f'./data/{LOC}/reviews.csv', 'wb') as f_out:\n",
    "            copyfileobj(f_in, f_out)\n",
    "    with gzip.open(f'./listings.csv.gz', 'rb') as f_in:\n",
    "        with open(f'./data/{LOC}/listings.csv', 'wb') as f_out:\n",
    "            copyfileobj(f_in, f_out)\n"
   ]
  },
  {
   "cell_type": "code",
   "execution_count": 187,
   "metadata": {},
   "outputs": [],
   "source": [
    "filename = f\"./data/{LOC}/reviews.csv\"\n",
    "df = pd.read_csv(filename)"
   ]
  },
  {
   "cell_type": "code",
   "execution_count": 188,
   "metadata": {},
   "outputs": [
    {
     "name": "stderr",
     "output_type": "stream",
     "text": [
      "[nltk_data] Downloading package stopwords to\n",
      "[nltk_data]     /Users/ryanegbert/nltk_data...\n",
      "[nltk_data]   Package stopwords is already up-to-date!\n"
     ]
    }
   ],
   "source": [
    "import nltk\n",
    "\n",
    "nltk.download('stopwords')\n",
    "STOP = nltk.corpus.stopwords.words('english')"
   ]
  },
  {
   "cell_type": "code",
   "execution_count": 189,
   "metadata": {},
   "outputs": [
    {
     "data": {
      "text/html": [
       "<div>\n",
       "<style scoped>\n",
       "    .dataframe tbody tr th:only-of-type {\n",
       "        vertical-align: middle;\n",
       "    }\n",
       "\n",
       "    .dataframe tbody tr th {\n",
       "        vertical-align: top;\n",
       "    }\n",
       "\n",
       "    .dataframe thead th {\n",
       "        text-align: right;\n",
       "    }\n",
       "</style>\n",
       "<table border=\"1\" class=\"dataframe\">\n",
       "  <thead>\n",
       "    <tr style=\"text-align: right;\">\n",
       "      <th></th>\n",
       "      <th>listing_id</th>\n",
       "      <th>id</th>\n",
       "      <th>date</th>\n",
       "      <th>reviewer_id</th>\n",
       "      <th>reviewer_name</th>\n",
       "      <th>comments</th>\n",
       "    </tr>\n",
       "  </thead>\n",
       "  <tbody>\n",
       "    <tr>\n",
       "      <th>0</th>\n",
       "      <td>2595</td>\n",
       "      <td>17857</td>\n",
       "      <td>2009-11-21</td>\n",
       "      <td>50679</td>\n",
       "      <td>Jean</td>\n",
       "      <td>Notre séjour de trois nuits.\\r&lt;br/&gt;Nous avons ...</td>\n",
       "    </tr>\n",
       "    <tr>\n",
       "      <th>1</th>\n",
       "      <td>2595</td>\n",
       "      <td>19176</td>\n",
       "      <td>2009-12-05</td>\n",
       "      <td>53267</td>\n",
       "      <td>Cate</td>\n",
       "      <td>Great experience.</td>\n",
       "    </tr>\n",
       "    <tr>\n",
       "      <th>2</th>\n",
       "      <td>2595</td>\n",
       "      <td>19760</td>\n",
       "      <td>2009-12-10</td>\n",
       "      <td>38960</td>\n",
       "      <td>Anita</td>\n",
       "      <td>I've stayed with my friend at the Midtown Cast...</td>\n",
       "    </tr>\n",
       "    <tr>\n",
       "      <th>3</th>\n",
       "      <td>2595</td>\n",
       "      <td>34320</td>\n",
       "      <td>2010-04-09</td>\n",
       "      <td>71130</td>\n",
       "      <td>Kai-Uwe</td>\n",
       "      <td>We've been staying here for about 9 nights, en...</td>\n",
       "    </tr>\n",
       "    <tr>\n",
       "      <th>4</th>\n",
       "      <td>2595</td>\n",
       "      <td>46312</td>\n",
       "      <td>2010-05-25</td>\n",
       "      <td>117113</td>\n",
       "      <td>Alicia</td>\n",
       "      <td>We had a wonderful stay at Jennifer's charming...</td>\n",
       "    </tr>\n",
       "  </tbody>\n",
       "</table>\n",
       "</div>"
      ],
      "text/plain": [
       "   listing_id     id        date  reviewer_id reviewer_name  \\\n",
       "0        2595  17857  2009-11-21        50679          Jean   \n",
       "1        2595  19176  2009-12-05        53267          Cate   \n",
       "2        2595  19760  2009-12-10        38960         Anita   \n",
       "3        2595  34320  2010-04-09        71130       Kai-Uwe   \n",
       "4        2595  46312  2010-05-25       117113        Alicia   \n",
       "\n",
       "                                            comments  \n",
       "0  Notre séjour de trois nuits.\\r<br/>Nous avons ...  \n",
       "1                                  Great experience.  \n",
       "2  I've stayed with my friend at the Midtown Cast...  \n",
       "3  We've been staying here for about 9 nights, en...  \n",
       "4  We had a wonderful stay at Jennifer's charming...  "
      ]
     },
     "execution_count": 189,
     "metadata": {},
     "output_type": "execute_result"
    }
   ],
   "source": [
    "df.head()"
   ]
  },
  {
   "cell_type": "code",
   "execution_count": 190,
   "metadata": {},
   "outputs": [
    {
     "name": "stdout",
     "output_type": "stream",
     "text": [
      "<class 'pandas.core.frame.DataFrame'>\n",
      "RangeIndex: 839321 entries, 0 to 839320\n",
      "Data columns (total 6 columns):\n",
      " #   Column         Non-Null Count   Dtype \n",
      "---  ------         --------------   ----- \n",
      " 0   listing_id     839321 non-null  int64 \n",
      " 1   id             839321 non-null  int64 \n",
      " 2   date           839321 non-null  object\n",
      " 3   reviewer_id    839321 non-null  int64 \n",
      " 4   reviewer_name  839314 non-null  object\n",
      " 5   comments       838509 non-null  object\n",
      "dtypes: int64(3), object(3)\n",
      "memory usage: 38.4+ MB\n"
     ]
    }
   ],
   "source": [
    "df.info()"
   ]
  },
  {
   "cell_type": "code",
   "execution_count": 191,
   "metadata": {},
   "outputs": [
    {
     "data": {
      "text/plain": [
       "0         Notre séjour de trois nuits.\\r<br/>Nous avons ...\n",
       "1                                         Great experience.\n",
       "2         I've stayed with my friend at the Midtown Cast...\n",
       "3         We've been staying here for about 9 nights, en...\n",
       "4         We had a wonderful stay at Jennifer's charming...\n",
       "                                ...                        \n",
       "839316                                     Very lovely home\n",
       "839317    The host canceled this reservation the day bef...\n",
       "839318    Christopher's place is really well located. It...\n",
       "839319    Nice place , comfy, all what you need for nice...\n",
       "839320    Host has been very kind and responsive. <br/>T...\n",
       "Name: comments, Length: 839321, dtype: object"
      ]
     },
     "execution_count": 191,
     "metadata": {},
     "output_type": "execute_result"
    }
   ],
   "source": [
    "df.comments.astype(str)"
   ]
  },
  {
   "cell_type": "code",
   "execution_count": 192,
   "metadata": {
    "scrolled": true
   },
   "outputs": [
    {
     "data": {
      "text/plain": [
       "listing_id        int64\n",
       "id                int64\n",
       "date             object\n",
       "reviewer_id       int64\n",
       "reviewer_name    object\n",
       "comments         object\n",
       "dtype: object"
      ]
     },
     "execution_count": 192,
     "metadata": {},
     "output_type": "execute_result"
    }
   ],
   "source": [
    "df.dtypes"
   ]
  },
  {
   "cell_type": "code",
   "execution_count": 193,
   "metadata": {},
   "outputs": [],
   "source": [
    "df.comments = df.comments.astype(str)\n",
    "df.date = pd.to_datetime(df.date)\n",
    "\n",
    "df = df[df.date > pd.to_datetime(dt.date(2019,12,31))]"
   ]
  },
  {
   "cell_type": "code",
   "execution_count": 194,
   "metadata": {},
   "outputs": [],
   "source": [
    "def replace_symbols(text):\n",
    "    text = text.lower()\n",
    "    symbols = ['.',',','<','\\\\','/','>','(',')','[',']','-','_','+','=','!','@','#','’','\\'',':',';','?','$','&','*']\n",
    "    for s in symbols:\n",
    "        if s in text:\n",
    "            text = text.replace(s, '')\n",
    "    \n",
    "    return ' '.join(word for word in text.split() if word not in STOP)\n",
    "\n",
    "\n",
    "df['review_simple'] = df.comments.apply(replace_symbols)\n",
    "\n",
    "\n"
   ]
  },
  {
   "cell_type": "code",
   "execution_count": 195,
   "metadata": {},
   "outputs": [],
   "source": [
    "start_p1 = pd.to_datetime(dt.date(2020,1,1))\n",
    "end_p1 = pd.to_datetime(dt.date(2020,2,29))\n",
    "start_p2 = pd.to_datetime(dt.date(2020,3,1))\n",
    "end_p2 = pd.to_datetime(dt.date(2020,7,31))\n",
    "start_p3 = pd.to_datetime(dt.date(2020,8,1))\n",
    "end_p3 = pd.to_datetime(dt.date(2020,12,31))\n",
    "start_p4 = pd.to_datetime(dt.date(2021,1,1))\n",
    "end_p4 = pd.to_datetime('today')"
   ]
  },
  {
   "cell_type": "code",
   "execution_count": 196,
   "metadata": {},
   "outputs": [
    {
     "data": {
      "text/plain": [
       "(194628, 7)"
      ]
     },
     "execution_count": 196,
     "metadata": {},
     "output_type": "execute_result"
    }
   ],
   "source": [
    "df.shape"
   ]
  },
  {
   "cell_type": "code",
   "execution_count": 197,
   "metadata": {},
   "outputs": [
    {
     "data": {
      "text/html": [
       "<div>\n",
       "<style scoped>\n",
       "    .dataframe tbody tr th:only-of-type {\n",
       "        vertical-align: middle;\n",
       "    }\n",
       "\n",
       "    .dataframe tbody tr th {\n",
       "        vertical-align: top;\n",
       "    }\n",
       "\n",
       "    .dataframe thead th {\n",
       "        text-align: right;\n",
       "    }\n",
       "</style>\n",
       "<table border=\"1\" class=\"dataframe\">\n",
       "  <thead>\n",
       "    <tr style=\"text-align: right;\">\n",
       "      <th></th>\n",
       "      <th>listing_id</th>\n",
       "      <th>id</th>\n",
       "      <th>date</th>\n",
       "      <th>reviewer_id</th>\n",
       "      <th>reviewer_name</th>\n",
       "      <th>comments</th>\n",
       "      <th>review_simple</th>\n",
       "    </tr>\n",
       "  </thead>\n",
       "  <tbody>\n",
       "    <tr>\n",
       "      <th>347</th>\n",
       "      <td>3831</td>\n",
       "      <td>588410318</td>\n",
       "      <td>2020-01-04</td>\n",
       "      <td>47646626</td>\n",
       "      <td>Thorsten</td>\n",
       "      <td>We had a nice stay with Lisa in Brooklyn. Espe...</td>\n",
       "      <td>nice stay lisa brooklyn especially tips helpfu...</td>\n",
       "    </tr>\n",
       "    <tr>\n",
       "      <th>348</th>\n",
       "      <td>3831</td>\n",
       "      <td>589143289</td>\n",
       "      <td>2020-01-05</td>\n",
       "      <td>23587571</td>\n",
       "      <td>Rodrigo</td>\n",
       "      <td>The location it’s fantastic. Even it’s an enti...</td>\n",
       "      <td>location fantastic even entire place doesnt fe...</td>\n",
       "    </tr>\n",
       "    <tr>\n",
       "      <th>349</th>\n",
       "      <td>3831</td>\n",
       "      <td>594037833</td>\n",
       "      <td>2020-01-17</td>\n",
       "      <td>300301942</td>\n",
       "      <td>Sungho</td>\n",
       "      <td>아이들이 있는 집은 최고의 숙소입니다&lt;br/&gt;저희 아이가 주인집 아이들과 매일 같이...</td>\n",
       "      <td>아이들이 있는 집은 최고의 숙소입니다br저희 아이가 주인집 아이들과 매일 같이 놀았...</td>\n",
       "    </tr>\n",
       "    <tr>\n",
       "      <th>350</th>\n",
       "      <td>3831</td>\n",
       "      <td>596029798</td>\n",
       "      <td>2020-01-21</td>\n",
       "      <td>109396060</td>\n",
       "      <td>Catalina Fernanda</td>\n",
       "      <td>La estadía fué buena está cerca del metro y de...</td>\n",
       "      <td>la estadía fué buena está cerca del metro de t...</td>\n",
       "    </tr>\n",
       "    <tr>\n",
       "      <th>351</th>\n",
       "      <td>3831</td>\n",
       "      <td>597434314</td>\n",
       "      <td>2020-01-25</td>\n",
       "      <td>2308141</td>\n",
       "      <td>Trafton</td>\n",
       "      <td>Lisa Roxanne was a great host and very accomod...</td>\n",
       "      <td>lisa roxanne great host accomodating youre loo...</td>\n",
       "    </tr>\n",
       "  </tbody>\n",
       "</table>\n",
       "</div>"
      ],
      "text/plain": [
       "     listing_id         id       date  reviewer_id      reviewer_name  \\\n",
       "347        3831  588410318 2020-01-04     47646626           Thorsten   \n",
       "348        3831  589143289 2020-01-05     23587571            Rodrigo   \n",
       "349        3831  594037833 2020-01-17    300301942             Sungho   \n",
       "350        3831  596029798 2020-01-21    109396060  Catalina Fernanda   \n",
       "351        3831  597434314 2020-01-25      2308141            Trafton   \n",
       "\n",
       "                                              comments  \\\n",
       "347  We had a nice stay with Lisa in Brooklyn. Espe...   \n",
       "348  The location it’s fantastic. Even it’s an enti...   \n",
       "349  아이들이 있는 집은 최고의 숙소입니다<br/>저희 아이가 주인집 아이들과 매일 같이...   \n",
       "350  La estadía fué buena está cerca del metro y de...   \n",
       "351  Lisa Roxanne was a great host and very accomod...   \n",
       "\n",
       "                                         review_simple  \n",
       "347  nice stay lisa brooklyn especially tips helpfu...  \n",
       "348  location fantastic even entire place doesnt fe...  \n",
       "349  아이들이 있는 집은 최고의 숙소입니다br저희 아이가 주인집 아이들과 매일 같이 놀았...  \n",
       "350  la estadía fué buena está cerca del metro de t...  \n",
       "351  lisa roxanne great host accomodating youre loo...  "
      ]
     },
     "execution_count": 197,
     "metadata": {},
     "output_type": "execute_result"
    }
   ],
   "source": [
    "df.head()"
   ]
  },
  {
   "cell_type": "code",
   "execution_count": 198,
   "metadata": {},
   "outputs": [],
   "source": [
    "pre_covid = df[(df.date > start_p1) & (df.date < end_p1)]\n",
    "covid = df[(df.date > start_p2) & (df.date < end_p2)]\n",
    "pre_vaccine = df[(df.date > start_p3) & (df.date < end_p3)]\n",
    "post_vaccine = df[(df.date > start_p4) & (df.date < end_p4)]"
   ]
  },
  {
   "cell_type": "code",
   "execution_count": 199,
   "metadata": {
    "scrolled": true
   },
   "outputs": [
    {
     "name": "stdout",
     "output_type": "stream",
     "text": [
      "(26777, 7)\n",
      "(24948, 7)\n",
      "(41782, 7)\n",
      "(96724, 7)\n"
     ]
    }
   ],
   "source": [
    "print(pre_covid.shape)\n",
    "print(covid.shape)\n",
    "print(pre_vaccine.shape)\n",
    "print(post_vaccine.shape)"
   ]
  },
  {
   "cell_type": "code",
   "execution_count": 200,
   "metadata": {
    "scrolled": true
   },
   "outputs": [
    {
     "data": {
      "text/html": [
       "<div>\n",
       "<style scoped>\n",
       "    .dataframe tbody tr th:only-of-type {\n",
       "        vertical-align: middle;\n",
       "    }\n",
       "\n",
       "    .dataframe tbody tr th {\n",
       "        vertical-align: top;\n",
       "    }\n",
       "\n",
       "    .dataframe thead th {\n",
       "        text-align: right;\n",
       "    }\n",
       "</style>\n",
       "<table border=\"1\" class=\"dataframe\">\n",
       "  <thead>\n",
       "    <tr style=\"text-align: right;\">\n",
       "      <th></th>\n",
       "      <th>listing_id</th>\n",
       "      <th>id</th>\n",
       "      <th>date</th>\n",
       "      <th>reviewer_id</th>\n",
       "      <th>reviewer_name</th>\n",
       "      <th>comments</th>\n",
       "      <th>review_simple</th>\n",
       "    </tr>\n",
       "  </thead>\n",
       "  <tbody>\n",
       "    <tr>\n",
       "      <th>347</th>\n",
       "      <td>3831</td>\n",
       "      <td>588410318</td>\n",
       "      <td>2020-01-04</td>\n",
       "      <td>47646626</td>\n",
       "      <td>Thorsten</td>\n",
       "      <td>We had a nice stay with Lisa in Brooklyn. Espe...</td>\n",
       "      <td>nice stay lisa brooklyn especially tips helpfu...</td>\n",
       "    </tr>\n",
       "    <tr>\n",
       "      <th>348</th>\n",
       "      <td>3831</td>\n",
       "      <td>589143289</td>\n",
       "      <td>2020-01-05</td>\n",
       "      <td>23587571</td>\n",
       "      <td>Rodrigo</td>\n",
       "      <td>The location it’s fantastic. Even it’s an enti...</td>\n",
       "      <td>location fantastic even entire place doesnt fe...</td>\n",
       "    </tr>\n",
       "    <tr>\n",
       "      <th>349</th>\n",
       "      <td>3831</td>\n",
       "      <td>594037833</td>\n",
       "      <td>2020-01-17</td>\n",
       "      <td>300301942</td>\n",
       "      <td>Sungho</td>\n",
       "      <td>아이들이 있는 집은 최고의 숙소입니다&lt;br/&gt;저희 아이가 주인집 아이들과 매일 같이...</td>\n",
       "      <td>아이들이 있는 집은 최고의 숙소입니다br저희 아이가 주인집 아이들과 매일 같이 놀았...</td>\n",
       "    </tr>\n",
       "    <tr>\n",
       "      <th>350</th>\n",
       "      <td>3831</td>\n",
       "      <td>596029798</td>\n",
       "      <td>2020-01-21</td>\n",
       "      <td>109396060</td>\n",
       "      <td>Catalina Fernanda</td>\n",
       "      <td>La estadía fué buena está cerca del metro y de...</td>\n",
       "      <td>la estadía fué buena está cerca del metro de t...</td>\n",
       "    </tr>\n",
       "    <tr>\n",
       "      <th>351</th>\n",
       "      <td>3831</td>\n",
       "      <td>597434314</td>\n",
       "      <td>2020-01-25</td>\n",
       "      <td>2308141</td>\n",
       "      <td>Trafton</td>\n",
       "      <td>Lisa Roxanne was a great host and very accomod...</td>\n",
       "      <td>lisa roxanne great host accomodating youre loo...</td>\n",
       "    </tr>\n",
       "  </tbody>\n",
       "</table>\n",
       "</div>"
      ],
      "text/plain": [
       "     listing_id         id       date  reviewer_id      reviewer_name  \\\n",
       "347        3831  588410318 2020-01-04     47646626           Thorsten   \n",
       "348        3831  589143289 2020-01-05     23587571            Rodrigo   \n",
       "349        3831  594037833 2020-01-17    300301942             Sungho   \n",
       "350        3831  596029798 2020-01-21    109396060  Catalina Fernanda   \n",
       "351        3831  597434314 2020-01-25      2308141            Trafton   \n",
       "\n",
       "                                              comments  \\\n",
       "347  We had a nice stay with Lisa in Brooklyn. Espe...   \n",
       "348  The location it’s fantastic. Even it’s an enti...   \n",
       "349  아이들이 있는 집은 최고의 숙소입니다<br/>저희 아이가 주인집 아이들과 매일 같이...   \n",
       "350  La estadía fué buena está cerca del metro y de...   \n",
       "351  Lisa Roxanne was a great host and very accomod...   \n",
       "\n",
       "                                         review_simple  \n",
       "347  nice stay lisa brooklyn especially tips helpfu...  \n",
       "348  location fantastic even entire place doesnt fe...  \n",
       "349  아이들이 있는 집은 최고의 숙소입니다br저희 아이가 주인집 아이들과 매일 같이 놀았...  \n",
       "350  la estadía fué buena está cerca del metro de t...  \n",
       "351  lisa roxanne great host accomodating youre loo...  "
      ]
     },
     "execution_count": 200,
     "metadata": {},
     "output_type": "execute_result"
    }
   ],
   "source": [
    "df.head()"
   ]
  }
 ],
 "metadata": {
  "kernelspec": {
   "display_name": "Python 3",
   "language": "python",
   "name": "python3"
  },
  "language_info": {
   "codemirror_mode": {
    "name": "ipython",
    "version": 3
   },
   "file_extension": ".py",
   "mimetype": "text/x-python",
   "name": "python",
   "nbconvert_exporter": "python",
   "pygments_lexer": "ipython3",
   "version": "3.7.7"
  }
 },
 "nbformat": 4,
 "nbformat_minor": 4
}
