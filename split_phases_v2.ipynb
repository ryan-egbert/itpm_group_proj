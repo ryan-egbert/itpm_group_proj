{
 "cells": [
  {
   "cell_type": "code",
   "execution_count": 4,
   "metadata": {
    "scrolled": true
   },
   "outputs": [],
   "source": [
    "import pandas as pd\n",
    "import os\n",
    "import numpy as np\n",
    "import datetime as dt\n",
    "from shutil import which, copyfileobj\n",
    "import gzip\n",
    "\n",
    "LOC = 'ny' # 'ny', 'paris', 'london'\n",
    "\n",
    "# print(len(os.listdir(f'./data/{LOC}/')))\n",
    "# if len(os.listdir(f'./data/{LOC}/')) == 0:\n",
    "# #     if which('wget') is None:\n",
    "# #         %conda install wget\n",
    "#     if LOC == 'ny':\n",
    "#         !wget http://data.insideairbnb.com/united-states/new-york-city/ny/2021-07-06/data/listings.csv.gz\n",
    "#         !wget http://data.insideairbnb.com/united-states/new-york-city/ny/2021-07-06/data/reviews.csv.gz\n",
    "#     elif LOC == 'paris':\n",
    "#         !wget http://data.insideairbnb.com/france/ile-de-france/paris/2021-07-06/data/listings.csv.gz\n",
    "#         !wget http://data.insideairbnb.com/france/ile-de-france/paris/2021-07-06/data/reviews.csv.gz\n",
    "#     elif LOC == 'london':\n",
    "#         !wget http://data.insideairbnb.com/united-kingdom/england/london/2021-07-06/data/listings.csv.gz\n",
    "#         !wget http://data.insideairbnb.com/united-kingdom/england/london/2021-07-06/data/reviews.csv.gz\n",
    "\n",
    "#     with gzip.open(f'./reviews.csv.gz', 'rb') as f_in:\n",
    "#         with open(f'./data/{LOC}/reviews.csv', 'wb') as f_out:\n",
    "#             copyfileobj(f_in, f_out)\n",
    "#     with gzip.open(f'./listings.csv.gz', 'rb') as f_in:\n",
    "#         with open(f'./data/{LOC}/listings.csv', 'wb') as f_out:\n",
    "#             copyfileobj(f_in, f_out)\n"
   ]
  },
  {
   "cell_type": "code",
   "execution_count": null,
   "metadata": {},
   "outputs": [],
   "source": []
  },
  {
   "cell_type": "code",
   "execution_count": 12,
   "metadata": {},
   "outputs": [],
   "source": [
    "filename = f\"./data/{LOC}/reviews.csv\"\n",
    "df = pd.read_csv(filename)"
   ]
  },
  {
   "cell_type": "code",
   "execution_count": 6,
   "metadata": {},
   "outputs": [
    {
     "name": "stderr",
     "output_type": "stream",
     "text": [
      "[nltk_data] Downloading package stopwords to\n",
      "[nltk_data]     C:\\Users\\zaina\\AppData\\Roaming\\nltk_data...\n",
      "[nltk_data]   Unzipping corpora\\stopwords.zip.\n"
     ]
    }
   ],
   "source": [
    "import nltk\n",
    "\n",
    "nltk.download('stopwords')\n",
    "STOP = nltk.corpus.stopwords.words('english')"
   ]
  },
  {
   "cell_type": "code",
   "execution_count": 13,
   "metadata": {},
   "outputs": [
    {
     "data": {
      "text/html": [
       "<div>\n",
       "<style scoped>\n",
       "    .dataframe tbody tr th:only-of-type {\n",
       "        vertical-align: middle;\n",
       "    }\n",
       "\n",
       "    .dataframe tbody tr th {\n",
       "        vertical-align: top;\n",
       "    }\n",
       "\n",
       "    .dataframe thead th {\n",
       "        text-align: right;\n",
       "    }\n",
       "</style>\n",
       "<table border=\"1\" class=\"dataframe\">\n",
       "  <thead>\n",
       "    <tr style=\"text-align: right;\">\n",
       "      <th></th>\n",
       "      <th>listing_id</th>\n",
       "      <th>id</th>\n",
       "      <th>date</th>\n",
       "      <th>reviewer_id</th>\n",
       "      <th>reviewer_name</th>\n",
       "      <th>comments</th>\n",
       "    </tr>\n",
       "  </thead>\n",
       "  <tbody>\n",
       "    <tr>\n",
       "      <th>0</th>\n",
       "      <td>2595</td>\n",
       "      <td>17857</td>\n",
       "      <td>2009-11-21</td>\n",
       "      <td>50679</td>\n",
       "      <td>Jean</td>\n",
       "      <td>Notre séjour de trois nuits.\\r&lt;br/&gt;Nous avons ...</td>\n",
       "    </tr>\n",
       "    <tr>\n",
       "      <th>1</th>\n",
       "      <td>2595</td>\n",
       "      <td>19176</td>\n",
       "      <td>2009-12-05</td>\n",
       "      <td>53267</td>\n",
       "      <td>Cate</td>\n",
       "      <td>Great experience.</td>\n",
       "    </tr>\n",
       "    <tr>\n",
       "      <th>2</th>\n",
       "      <td>2595</td>\n",
       "      <td>19760</td>\n",
       "      <td>2009-12-10</td>\n",
       "      <td>38960</td>\n",
       "      <td>Anita</td>\n",
       "      <td>I've stayed with my friend at the Midtown Cast...</td>\n",
       "    </tr>\n",
       "    <tr>\n",
       "      <th>3</th>\n",
       "      <td>2595</td>\n",
       "      <td>34320</td>\n",
       "      <td>2010-04-09</td>\n",
       "      <td>71130</td>\n",
       "      <td>Kai-Uwe</td>\n",
       "      <td>We've been staying here for about 9 nights, en...</td>\n",
       "    </tr>\n",
       "    <tr>\n",
       "      <th>4</th>\n",
       "      <td>2595</td>\n",
       "      <td>46312</td>\n",
       "      <td>2010-05-25</td>\n",
       "      <td>117113</td>\n",
       "      <td>Alicia</td>\n",
       "      <td>We had a wonderful stay at Jennifer's charming...</td>\n",
       "    </tr>\n",
       "  </tbody>\n",
       "</table>\n",
       "</div>"
      ],
      "text/plain": [
       "   listing_id     id        date  reviewer_id reviewer_name  \\\n",
       "0        2595  17857  2009-11-21        50679          Jean   \n",
       "1        2595  19176  2009-12-05        53267          Cate   \n",
       "2        2595  19760  2009-12-10        38960         Anita   \n",
       "3        2595  34320  2010-04-09        71130       Kai-Uwe   \n",
       "4        2595  46312  2010-05-25       117113        Alicia   \n",
       "\n",
       "                                            comments  \n",
       "0  Notre séjour de trois nuits.\\r<br/>Nous avons ...  \n",
       "1                                  Great experience.  \n",
       "2  I've stayed with my friend at the Midtown Cast...  \n",
       "3  We've been staying here for about 9 nights, en...  \n",
       "4  We had a wonderful stay at Jennifer's charming...  "
      ]
     },
     "execution_count": 13,
     "metadata": {},
     "output_type": "execute_result"
    }
   ],
   "source": [
    "df.head()"
   ]
  },
  {
   "cell_type": "code",
   "execution_count": 14,
   "metadata": {},
   "outputs": [
    {
     "name": "stdout",
     "output_type": "stream",
     "text": [
      "<class 'pandas.core.frame.DataFrame'>\n",
      "RangeIndex: 839321 entries, 0 to 839320\n",
      "Data columns (total 6 columns):\n",
      " #   Column         Non-Null Count   Dtype \n",
      "---  ------         --------------   ----- \n",
      " 0   listing_id     839321 non-null  int64 \n",
      " 1   id             839321 non-null  int64 \n",
      " 2   date           839321 non-null  object\n",
      " 3   reviewer_id    839321 non-null  int64 \n",
      " 4   reviewer_name  839314 non-null  object\n",
      " 5   comments       838509 non-null  object\n",
      "dtypes: int64(3), object(3)\n",
      "memory usage: 38.4+ MB\n"
     ]
    }
   ],
   "source": [
    "df.info()"
   ]
  },
  {
   "cell_type": "code",
   "execution_count": 15,
   "metadata": {},
   "outputs": [
    {
     "data": {
      "text/plain": [
       "0         Notre séjour de trois nuits.\\r<br/>Nous avons ...\n",
       "1                                         Great experience.\n",
       "2         I've stayed with my friend at the Midtown Cast...\n",
       "3         We've been staying here for about 9 nights, en...\n",
       "4         We had a wonderful stay at Jennifer's charming...\n",
       "                                ...                        \n",
       "839316                                     Very lovely home\n",
       "839317    The host canceled this reservation the day bef...\n",
       "839318    Christopher's place is really well located. It...\n",
       "839319    Nice place , comfy, all what you need for nice...\n",
       "839320    Host has been very kind and responsive. <br/>T...\n",
       "Name: comments, Length: 839321, dtype: object"
      ]
     },
     "execution_count": 15,
     "metadata": {},
     "output_type": "execute_result"
    }
   ],
   "source": [
    "df.comments.astype(str)"
   ]
  },
  {
   "cell_type": "code",
   "execution_count": 16,
   "metadata": {
    "scrolled": true
   },
   "outputs": [
    {
     "data": {
      "text/plain": [
       "listing_id        int64\n",
       "id                int64\n",
       "date             object\n",
       "reviewer_id       int64\n",
       "reviewer_name    object\n",
       "comments         object\n",
       "dtype: object"
      ]
     },
     "execution_count": 16,
     "metadata": {},
     "output_type": "execute_result"
    }
   ],
   "source": [
    "df.dtypes"
   ]
  },
  {
   "cell_type": "code",
   "execution_count": 19,
   "metadata": {},
   "outputs": [],
   "source": [
    "df.comments = df.comments.astype(str)\n",
    "df.date = pd.to_datetime(df.date)\n",
    "\n",
    "df = df[df.date > pd.to_datetime(dt.date(2019,12,31))]"
   ]
  },
  {
   "cell_type": "code",
   "execution_count": 20,
   "metadata": {},
   "outputs": [],
   "source": [
    "def replace_symbols(text):\n",
    "    text = text.lower()\n",
    "    symbols = ['.',',','<','\\\\','/','>','(',')','[',']','-','_','+','=','!','@','#','’','\\'',':',';','?','$','&','*']\n",
    "    for s in symbols:\n",
    "        if s in text:\n",
    "            text = text.replace(s, '')\n",
    "    \n",
    "    return ' '.join(word for word in text.split() if word not in STOP)\n",
    "\n",
    "\n",
    "df['review_simple'] = df.comments.apply(replace_symbols)\n",
    "\n",
    "\n"
   ]
  },
  {
   "cell_type": "code",
   "execution_count": 23,
   "metadata": {},
   "outputs": [],
   "source": [
    "start_p1 = pd.to_datetime(dt.date(2020,1,1))\n",
    "end_p1 = pd.to_datetime(dt.date(2020,2,29))\n",
    "start_p2 = pd.to_datetime(dt.date(2020,3,1))\n",
    "end_p2 = pd.to_datetime(dt.date(2020,7,31))\n",
    "start_p3 = pd.to_datetime(dt.date(2020,8,1))\n",
    "end_p3 = pd.to_datetime(dt.date(2020,12,31))\n",
    "start_p4 = pd.to_datetime(dt.date(2021,1,1))\n",
    "end_p4 = pd.to_datetime('today')"
   ]
  },
  {
   "cell_type": "code",
   "execution_count": 24,
   "metadata": {},
   "outputs": [
    {
     "data": {
      "text/plain": [
       "(194628, 7)"
      ]
     },
     "execution_count": 24,
     "metadata": {},
     "output_type": "execute_result"
    }
   ],
   "source": [
    "df.shape"
   ]
  },
  {
   "cell_type": "code",
   "execution_count": 25,
   "metadata": {},
   "outputs": [
    {
     "data": {
      "text/html": [
       "<div>\n",
       "<style scoped>\n",
       "    .dataframe tbody tr th:only-of-type {\n",
       "        vertical-align: middle;\n",
       "    }\n",
       "\n",
       "    .dataframe tbody tr th {\n",
       "        vertical-align: top;\n",
       "    }\n",
       "\n",
       "    .dataframe thead th {\n",
       "        text-align: right;\n",
       "    }\n",
       "</style>\n",
       "<table border=\"1\" class=\"dataframe\">\n",
       "  <thead>\n",
       "    <tr style=\"text-align: right;\">\n",
       "      <th></th>\n",
       "      <th>listing_id</th>\n",
       "      <th>id</th>\n",
       "      <th>date</th>\n",
       "      <th>reviewer_id</th>\n",
       "      <th>reviewer_name</th>\n",
       "      <th>comments</th>\n",
       "      <th>review_simple</th>\n",
       "    </tr>\n",
       "  </thead>\n",
       "  <tbody>\n",
       "    <tr>\n",
       "      <th>347</th>\n",
       "      <td>3831</td>\n",
       "      <td>588410318</td>\n",
       "      <td>2020-01-04</td>\n",
       "      <td>47646626</td>\n",
       "      <td>Thorsten</td>\n",
       "      <td>We had a nice stay with Lisa in Brooklyn. Espe...</td>\n",
       "      <td>nice stay lisa brooklyn especially tips helpfu...</td>\n",
       "    </tr>\n",
       "    <tr>\n",
       "      <th>348</th>\n",
       "      <td>3831</td>\n",
       "      <td>589143289</td>\n",
       "      <td>2020-01-05</td>\n",
       "      <td>23587571</td>\n",
       "      <td>Rodrigo</td>\n",
       "      <td>The location it’s fantastic. Even it’s an enti...</td>\n",
       "      <td>location fantastic even entire place doesnt fe...</td>\n",
       "    </tr>\n",
       "    <tr>\n",
       "      <th>349</th>\n",
       "      <td>3831</td>\n",
       "      <td>594037833</td>\n",
       "      <td>2020-01-17</td>\n",
       "      <td>300301942</td>\n",
       "      <td>Sungho</td>\n",
       "      <td>아이들이 있는 집은 최고의 숙소입니다&lt;br/&gt;저희 아이가 주인집 아이들과 매일 같이...</td>\n",
       "      <td>아이들이 있는 집은 최고의 숙소입니다br저희 아이가 주인집 아이들과 매일 같이 놀았...</td>\n",
       "    </tr>\n",
       "    <tr>\n",
       "      <th>350</th>\n",
       "      <td>3831</td>\n",
       "      <td>596029798</td>\n",
       "      <td>2020-01-21</td>\n",
       "      <td>109396060</td>\n",
       "      <td>Catalina Fernanda</td>\n",
       "      <td>La estadía fué buena está cerca del metro y de...</td>\n",
       "      <td>la estadía fué buena está cerca del metro de t...</td>\n",
       "    </tr>\n",
       "    <tr>\n",
       "      <th>351</th>\n",
       "      <td>3831</td>\n",
       "      <td>597434314</td>\n",
       "      <td>2020-01-25</td>\n",
       "      <td>2308141</td>\n",
       "      <td>Trafton</td>\n",
       "      <td>Lisa Roxanne was a great host and very accomod...</td>\n",
       "      <td>lisa roxanne great host accomodating youre loo...</td>\n",
       "    </tr>\n",
       "  </tbody>\n",
       "</table>\n",
       "</div>"
      ],
      "text/plain": [
       "     listing_id         id       date  reviewer_id      reviewer_name  \\\n",
       "347        3831  588410318 2020-01-04     47646626           Thorsten   \n",
       "348        3831  589143289 2020-01-05     23587571            Rodrigo   \n",
       "349        3831  594037833 2020-01-17    300301942             Sungho   \n",
       "350        3831  596029798 2020-01-21    109396060  Catalina Fernanda   \n",
       "351        3831  597434314 2020-01-25      2308141            Trafton   \n",
       "\n",
       "                                              comments  \\\n",
       "347  We had a nice stay with Lisa in Brooklyn. Espe...   \n",
       "348  The location it’s fantastic. Even it’s an enti...   \n",
       "349  아이들이 있는 집은 최고의 숙소입니다<br/>저희 아이가 주인집 아이들과 매일 같이...   \n",
       "350  La estadía fué buena está cerca del metro y de...   \n",
       "351  Lisa Roxanne was a great host and very accomod...   \n",
       "\n",
       "                                         review_simple  \n",
       "347  nice stay lisa brooklyn especially tips helpfu...  \n",
       "348  location fantastic even entire place doesnt fe...  \n",
       "349  아이들이 있는 집은 최고의 숙소입니다br저희 아이가 주인집 아이들과 매일 같이 놀았...  \n",
       "350  la estadía fué buena está cerca del metro de t...  \n",
       "351  lisa roxanne great host accomodating youre loo...  "
      ]
     },
     "execution_count": 25,
     "metadata": {},
     "output_type": "execute_result"
    }
   ],
   "source": [
    "df.head()"
   ]
  },
  {
   "cell_type": "code",
   "execution_count": 26,
   "metadata": {},
   "outputs": [],
   "source": [
    "pre_covid = df[(df.date > start_p1) & (df.date < end_p1)]\n",
    "covid = df[(df.date > start_p2) & (df.date < end_p2)]\n",
    "pre_vaccine = df[(df.date > start_p3) & (df.date < end_p3)]\n",
    "post_vaccine = df[(df.date > start_p4) & (df.date < end_p4)]"
   ]
  },
  {
   "cell_type": "code",
   "execution_count": 27,
   "metadata": {
    "scrolled": true
   },
   "outputs": [
    {
     "name": "stdout",
     "output_type": "stream",
     "text": [
      "(26777, 7)\n",
      "(24948, 7)\n",
      "(41782, 7)\n",
      "(96724, 7)\n"
     ]
    }
   ],
   "source": [
    "print(pre_covid.shape)\n",
    "print(covid.shape)\n",
    "print(pre_vaccine.shape)\n",
    "print(post_vaccine.shape)"
   ]
  },
  {
   "cell_type": "code",
   "execution_count": 28,
   "metadata": {
    "scrolled": true
   },
   "outputs": [
    {
     "data": {
      "text/html": [
       "<div>\n",
       "<style scoped>\n",
       "    .dataframe tbody tr th:only-of-type {\n",
       "        vertical-align: middle;\n",
       "    }\n",
       "\n",
       "    .dataframe tbody tr th {\n",
       "        vertical-align: top;\n",
       "    }\n",
       "\n",
       "    .dataframe thead th {\n",
       "        text-align: right;\n",
       "    }\n",
       "</style>\n",
       "<table border=\"1\" class=\"dataframe\">\n",
       "  <thead>\n",
       "    <tr style=\"text-align: right;\">\n",
       "      <th></th>\n",
       "      <th>listing_id</th>\n",
       "      <th>id</th>\n",
       "      <th>date</th>\n",
       "      <th>reviewer_id</th>\n",
       "      <th>reviewer_name</th>\n",
       "      <th>comments</th>\n",
       "      <th>review_simple</th>\n",
       "    </tr>\n",
       "  </thead>\n",
       "  <tbody>\n",
       "    <tr>\n",
       "      <th>347</th>\n",
       "      <td>3831</td>\n",
       "      <td>588410318</td>\n",
       "      <td>2020-01-04</td>\n",
       "      <td>47646626</td>\n",
       "      <td>Thorsten</td>\n",
       "      <td>We had a nice stay with Lisa in Brooklyn. Espe...</td>\n",
       "      <td>nice stay lisa brooklyn especially tips helpfu...</td>\n",
       "    </tr>\n",
       "    <tr>\n",
       "      <th>348</th>\n",
       "      <td>3831</td>\n",
       "      <td>589143289</td>\n",
       "      <td>2020-01-05</td>\n",
       "      <td>23587571</td>\n",
       "      <td>Rodrigo</td>\n",
       "      <td>The location it’s fantastic. Even it’s an enti...</td>\n",
       "      <td>location fantastic even entire place doesnt fe...</td>\n",
       "    </tr>\n",
       "    <tr>\n",
       "      <th>349</th>\n",
       "      <td>3831</td>\n",
       "      <td>594037833</td>\n",
       "      <td>2020-01-17</td>\n",
       "      <td>300301942</td>\n",
       "      <td>Sungho</td>\n",
       "      <td>아이들이 있는 집은 최고의 숙소입니다&lt;br/&gt;저희 아이가 주인집 아이들과 매일 같이...</td>\n",
       "      <td>아이들이 있는 집은 최고의 숙소입니다br저희 아이가 주인집 아이들과 매일 같이 놀았...</td>\n",
       "    </tr>\n",
       "    <tr>\n",
       "      <th>350</th>\n",
       "      <td>3831</td>\n",
       "      <td>596029798</td>\n",
       "      <td>2020-01-21</td>\n",
       "      <td>109396060</td>\n",
       "      <td>Catalina Fernanda</td>\n",
       "      <td>La estadía fué buena está cerca del metro y de...</td>\n",
       "      <td>la estadía fué buena está cerca del metro de t...</td>\n",
       "    </tr>\n",
       "    <tr>\n",
       "      <th>351</th>\n",
       "      <td>3831</td>\n",
       "      <td>597434314</td>\n",
       "      <td>2020-01-25</td>\n",
       "      <td>2308141</td>\n",
       "      <td>Trafton</td>\n",
       "      <td>Lisa Roxanne was a great host and very accomod...</td>\n",
       "      <td>lisa roxanne great host accomodating youre loo...</td>\n",
       "    </tr>\n",
       "  </tbody>\n",
       "</table>\n",
       "</div>"
      ],
      "text/plain": [
       "     listing_id         id       date  reviewer_id      reviewer_name  \\\n",
       "347        3831  588410318 2020-01-04     47646626           Thorsten   \n",
       "348        3831  589143289 2020-01-05     23587571            Rodrigo   \n",
       "349        3831  594037833 2020-01-17    300301942             Sungho   \n",
       "350        3831  596029798 2020-01-21    109396060  Catalina Fernanda   \n",
       "351        3831  597434314 2020-01-25      2308141            Trafton   \n",
       "\n",
       "                                              comments  \\\n",
       "347  We had a nice stay with Lisa in Brooklyn. Espe...   \n",
       "348  The location it’s fantastic. Even it’s an enti...   \n",
       "349  아이들이 있는 집은 최고의 숙소입니다<br/>저희 아이가 주인집 아이들과 매일 같이...   \n",
       "350  La estadía fué buena está cerca del metro y de...   \n",
       "351  Lisa Roxanne was a great host and very accomod...   \n",
       "\n",
       "                                         review_simple  \n",
       "347  nice stay lisa brooklyn especially tips helpfu...  \n",
       "348  location fantastic even entire place doesnt fe...  \n",
       "349  아이들이 있는 집은 최고의 숙소입니다br저희 아이가 주인집 아이들과 매일 같이 놀았...  \n",
       "350  la estadía fué buena está cerca del metro de t...  \n",
       "351  lisa roxanne great host accomodating youre loo...  "
      ]
     },
     "execution_count": 28,
     "metadata": {},
     "output_type": "execute_result"
    }
   ],
   "source": [
    "df.head()"
   ]
  },
  {
   "cell_type": "code",
   "execution_count": 73,
   "metadata": {},
   "outputs": [
    {
     "data": {
      "text/html": [
       "<div>\n",
       "<style scoped>\n",
       "    .dataframe tbody tr th:only-of-type {\n",
       "        vertical-align: middle;\n",
       "    }\n",
       "\n",
       "    .dataframe tbody tr th {\n",
       "        vertical-align: top;\n",
       "    }\n",
       "\n",
       "    .dataframe thead th {\n",
       "        text-align: right;\n",
       "    }\n",
       "</style>\n",
       "<table border=\"1\" class=\"dataframe\">\n",
       "  <thead>\n",
       "    <tr style=\"text-align: right;\">\n",
       "      <th></th>\n",
       "      <th>id</th>\n",
       "      <th>pre_covid_activity</th>\n",
       "    </tr>\n",
       "  </thead>\n",
       "  <tbody>\n",
       "    <tr>\n",
       "      <th>0</th>\n",
       "      <td>3831</td>\n",
       "      <td>14</td>\n",
       "    </tr>\n",
       "    <tr>\n",
       "      <th>1</th>\n",
       "      <td>5178</td>\n",
       "      <td>10</td>\n",
       "    </tr>\n",
       "    <tr>\n",
       "      <th>2</th>\n",
       "      <td>5803</td>\n",
       "      <td>1</td>\n",
       "    </tr>\n",
       "    <tr>\n",
       "      <th>3</th>\n",
       "      <td>6848</td>\n",
       "      <td>2</td>\n",
       "    </tr>\n",
       "    <tr>\n",
       "      <th>4</th>\n",
       "      <td>7097</td>\n",
       "      <td>4</td>\n",
       "    </tr>\n",
       "  </tbody>\n",
       "</table>\n",
       "</div>"
      ],
      "text/plain": [
       "     id  pre_covid_activity\n",
       "0  3831                  14\n",
       "1  5178                  10\n",
       "2  5803                   1\n",
       "3  6848                   2\n",
       "4  7097                   4"
      ]
     },
     "execution_count": 73,
     "metadata": {},
     "output_type": "execute_result"
    }
   ],
   "source": [
    "pre_covid_activity = pre_covid.groupby(pre_covid['listing_id']).size()\n",
    "pre_covid_activity = pd.DataFrame(pre_covid_activity.reset_index(\"listing_id\"))\n",
    "pre_covid_activity.columns = ['id', 'pre_covid_activity']\n",
    "pre_covid_activity.head()"
   ]
  },
  {
   "cell_type": "code",
   "execution_count": 75,
   "metadata": {},
   "outputs": [
    {
     "data": {
      "text/html": [
       "<div>\n",
       "<style scoped>\n",
       "    .dataframe tbody tr th:only-of-type {\n",
       "        vertical-align: middle;\n",
       "    }\n",
       "\n",
       "    .dataframe tbody tr th {\n",
       "        vertical-align: top;\n",
       "    }\n",
       "\n",
       "    .dataframe thead th {\n",
       "        text-align: right;\n",
       "    }\n",
       "</style>\n",
       "<table border=\"1\" class=\"dataframe\">\n",
       "  <thead>\n",
       "    <tr style=\"text-align: right;\">\n",
       "      <th></th>\n",
       "      <th>id</th>\n",
       "      <th>pre_covid_activity</th>\n",
       "    </tr>\n",
       "  </thead>\n",
       "  <tbody>\n",
       "    <tr>\n",
       "      <th>0</th>\n",
       "      <td>3831</td>\n",
       "      <td>14</td>\n",
       "    </tr>\n",
       "    <tr>\n",
       "      <th>1</th>\n",
       "      <td>5178</td>\n",
       "      <td>10</td>\n",
       "    </tr>\n",
       "    <tr>\n",
       "      <th>2</th>\n",
       "      <td>5803</td>\n",
       "      <td>1</td>\n",
       "    </tr>\n",
       "    <tr>\n",
       "      <th>3</th>\n",
       "      <td>6848</td>\n",
       "      <td>2</td>\n",
       "    </tr>\n",
       "    <tr>\n",
       "      <th>4</th>\n",
       "      <td>7097</td>\n",
       "      <td>4</td>\n",
       "    </tr>\n",
       "    <tr>\n",
       "      <th>...</th>\n",
       "      <td>...</td>\n",
       "      <td>...</td>\n",
       "    </tr>\n",
       "    <tr>\n",
       "      <th>7741</th>\n",
       "      <td>42475458</td>\n",
       "      <td>1</td>\n",
       "    </tr>\n",
       "    <tr>\n",
       "      <th>7742</th>\n",
       "      <td>42543019</td>\n",
       "      <td>1</td>\n",
       "    </tr>\n",
       "    <tr>\n",
       "      <th>7743</th>\n",
       "      <td>42561259</td>\n",
       "      <td>1</td>\n",
       "    </tr>\n",
       "    <tr>\n",
       "      <th>7744</th>\n",
       "      <td>42830099</td>\n",
       "      <td>5</td>\n",
       "    </tr>\n",
       "    <tr>\n",
       "      <th>7745</th>\n",
       "      <td>45494997</td>\n",
       "      <td>124</td>\n",
       "    </tr>\n",
       "  </tbody>\n",
       "</table>\n",
       "<p>7746 rows × 2 columns</p>\n",
       "</div>"
      ],
      "text/plain": [
       "            id  pre_covid_activity\n",
       "0         3831                  14\n",
       "1         5178                  10\n",
       "2         5803                   1\n",
       "3         6848                   2\n",
       "4         7097                   4\n",
       "...        ...                 ...\n",
       "7741  42475458                   1\n",
       "7742  42543019                   1\n",
       "7743  42561259                   1\n",
       "7744  42830099                   5\n",
       "7745  45494997                 124\n",
       "\n",
       "[7746 rows x 2 columns]"
      ]
     },
     "execution_count": 75,
     "metadata": {},
     "output_type": "execute_result"
    }
   ],
   "source": [
    "pre_covid_activity = pre_covid.groupby(pre_covid['listing_id']).size()\n",
    "covid_activity = covid.groupby(covid['listing_id']).size()\n",
    "pre_vaccine_activity = pre_vaccine.groupby(pre_vaccine['listing_id']).size()\n",
    "post_vaccine_activity = post_vaccine.groupby(post_vaccine['listing_id']).size()\n",
    "\n",
    "pre_covid_activity = pd.DataFrame(pre_covid_activity.reset_index(\"listing_id\"))\n",
    "pre_covid_activity.columns = ['id', 'pre_covid_activity']\n",
    "\n",
    "covid_activity = pd.DataFrame(covid_activity.reset_index(\"listing_id\"))\n",
    "covid_activity.columns = ['id', 'covid_activity']\n",
    "\n",
    "pre_vaccine_activity = pd.DataFrame(pre_vaccine_activity.reset_index(\"listing_id\"))\n",
    "pre_vaccine_activity.columns = ['id', 'pre_vaccine_activity']\n",
    "\n",
    "post_vaccine_activity = pd.DataFrame(post_vaccine_activity.reset_index(\"listing_id\"))\n",
    "post_vaccine_activity.columns = ['id', 'post_vaccine_activity']\n",
    "\n",
    "pre_covid_activity"
   ]
  },
  {
   "cell_type": "code",
   "execution_count": 45,
   "metadata": {},
   "outputs": [
    {
     "data": {
      "text/html": [
       "<div>\n",
       "<style scoped>\n",
       "    .dataframe tbody tr th:only-of-type {\n",
       "        vertical-align: middle;\n",
       "    }\n",
       "\n",
       "    .dataframe tbody tr th {\n",
       "        vertical-align: top;\n",
       "    }\n",
       "\n",
       "    .dataframe thead th {\n",
       "        text-align: right;\n",
       "    }\n",
       "</style>\n",
       "<table border=\"1\" class=\"dataframe\">\n",
       "  <thead>\n",
       "    <tr style=\"text-align: right;\">\n",
       "      <th></th>\n",
       "      <th>id</th>\n",
       "      <th>listing_url</th>\n",
       "      <th>scrape_id</th>\n",
       "      <th>last_scraped</th>\n",
       "      <th>name</th>\n",
       "      <th>description</th>\n",
       "      <th>neighborhood_overview</th>\n",
       "      <th>picture_url</th>\n",
       "      <th>host_id</th>\n",
       "      <th>host_url</th>\n",
       "      <th>...</th>\n",
       "      <th>review_scores_communication</th>\n",
       "      <th>review_scores_location</th>\n",
       "      <th>review_scores_value</th>\n",
       "      <th>license</th>\n",
       "      <th>instant_bookable</th>\n",
       "      <th>calculated_host_listings_count</th>\n",
       "      <th>calculated_host_listings_count_entire_homes</th>\n",
       "      <th>calculated_host_listings_count_private_rooms</th>\n",
       "      <th>calculated_host_listings_count_shared_rooms</th>\n",
       "      <th>reviews_per_month</th>\n",
       "    </tr>\n",
       "  </thead>\n",
       "  <tbody>\n",
       "    <tr>\n",
       "      <th>0</th>\n",
       "      <td>2595</td>\n",
       "      <td>https://www.airbnb.com/rooms/2595</td>\n",
       "      <td>20210804005827</td>\n",
       "      <td>2021-08-04</td>\n",
       "      <td>Skylit Midtown Castle</td>\n",
       "      <td>Beautiful, spacious skylit studio in the heart...</td>\n",
       "      <td>Centrally located in the heart of Manhattan ju...</td>\n",
       "      <td>https://a0.muscache.com/pictures/f0813a11-40b2...</td>\n",
       "      <td>2845</td>\n",
       "      <td>https://www.airbnb.com/users/show/2845</td>\n",
       "      <td>...</td>\n",
       "      <td>4.79</td>\n",
       "      <td>4.86</td>\n",
       "      <td>4.41</td>\n",
       "      <td>NaN</td>\n",
       "      <td>f</td>\n",
       "      <td>3</td>\n",
       "      <td>3</td>\n",
       "      <td>0</td>\n",
       "      <td>0</td>\n",
       "      <td>0.34</td>\n",
       "    </tr>\n",
       "    <tr>\n",
       "      <th>1</th>\n",
       "      <td>3831</td>\n",
       "      <td>https://www.airbnb.com/rooms/3831</td>\n",
       "      <td>20210804005827</td>\n",
       "      <td>2021-08-04</td>\n",
       "      <td>Whole flr w/private bdrm, bath &amp; kitchen(pls r...</td>\n",
       "      <td>Enjoy 500 s.f. top floor in 1899 brownstone, w...</td>\n",
       "      <td>Just the right mix of urban center and local n...</td>\n",
       "      <td>https://a0.muscache.com/pictures/e49999c2-9fd5...</td>\n",
       "      <td>4869</td>\n",
       "      <td>https://www.airbnb.com/users/show/4869</td>\n",
       "      <td>...</td>\n",
       "      <td>4.81</td>\n",
       "      <td>4.72</td>\n",
       "      <td>4.65</td>\n",
       "      <td>NaN</td>\n",
       "      <td>f</td>\n",
       "      <td>1</td>\n",
       "      <td>1</td>\n",
       "      <td>0</td>\n",
       "      <td>0</td>\n",
       "      <td>5.09</td>\n",
       "    </tr>\n",
       "    <tr>\n",
       "      <th>2</th>\n",
       "      <td>5121</td>\n",
       "      <td>https://www.airbnb.com/rooms/5121</td>\n",
       "      <td>20210804005827</td>\n",
       "      <td>2021-08-04</td>\n",
       "      <td>BlissArtsSpace!</td>\n",
       "      <td>&lt;b&gt;The space&lt;/b&gt;&lt;br /&gt;HELLO EVERYONE AND THANK...</td>\n",
       "      <td>NaN</td>\n",
       "      <td>https://a0.muscache.com/pictures/2090980c-b68e...</td>\n",
       "      <td>7356</td>\n",
       "      <td>https://www.airbnb.com/users/show/7356</td>\n",
       "      <td>...</td>\n",
       "      <td>4.91</td>\n",
       "      <td>4.47</td>\n",
       "      <td>4.52</td>\n",
       "      <td>NaN</td>\n",
       "      <td>f</td>\n",
       "      <td>1</td>\n",
       "      <td>0</td>\n",
       "      <td>1</td>\n",
       "      <td>0</td>\n",
       "      <td>0.55</td>\n",
       "    </tr>\n",
       "    <tr>\n",
       "      <th>3</th>\n",
       "      <td>5136</td>\n",
       "      <td>https://www.airbnb.com/rooms/5136</td>\n",
       "      <td>20210804005827</td>\n",
       "      <td>2021-08-04</td>\n",
       "      <td>Spacious Brooklyn Duplex, Patio + Garden</td>\n",
       "      <td>We welcome you to stay in our lovely 2 br dupl...</td>\n",
       "      <td>NaN</td>\n",
       "      <td>https://a0.muscache.com/pictures/miso/Hosting-...</td>\n",
       "      <td>7378</td>\n",
       "      <td>https://www.airbnb.com/users/show/7378</td>\n",
       "      <td>...</td>\n",
       "      <td>5.00</td>\n",
       "      <td>4.00</td>\n",
       "      <td>5.00</td>\n",
       "      <td>NaN</td>\n",
       "      <td>f</td>\n",
       "      <td>1</td>\n",
       "      <td>1</td>\n",
       "      <td>0</td>\n",
       "      <td>0</td>\n",
       "      <td>0.01</td>\n",
       "    </tr>\n",
       "    <tr>\n",
       "      <th>4</th>\n",
       "      <td>5178</td>\n",
       "      <td>https://www.airbnb.com/rooms/5178</td>\n",
       "      <td>20210804005827</td>\n",
       "      <td>2021-08-04</td>\n",
       "      <td>Large Furnished Room Near B'way</td>\n",
       "      <td>Please don’t expect the luxury here just a bas...</td>\n",
       "      <td>Theater district, many restaurants around here.</td>\n",
       "      <td>https://a0.muscache.com/pictures/12065/f070997...</td>\n",
       "      <td>8967</td>\n",
       "      <td>https://www.airbnb.com/users/show/8967</td>\n",
       "      <td>...</td>\n",
       "      <td>4.40</td>\n",
       "      <td>4.86</td>\n",
       "      <td>4.35</td>\n",
       "      <td>NaN</td>\n",
       "      <td>f</td>\n",
       "      <td>1</td>\n",
       "      <td>0</td>\n",
       "      <td>1</td>\n",
       "      <td>0</td>\n",
       "      <td>3.63</td>\n",
       "    </tr>\n",
       "  </tbody>\n",
       "</table>\n",
       "<p>5 rows × 74 columns</p>\n",
       "</div>"
      ],
      "text/plain": [
       "     id                        listing_url       scrape_id last_scraped  \\\n",
       "0  2595  https://www.airbnb.com/rooms/2595  20210804005827   2021-08-04   \n",
       "1  3831  https://www.airbnb.com/rooms/3831  20210804005827   2021-08-04   \n",
       "2  5121  https://www.airbnb.com/rooms/5121  20210804005827   2021-08-04   \n",
       "3  5136  https://www.airbnb.com/rooms/5136  20210804005827   2021-08-04   \n",
       "4  5178  https://www.airbnb.com/rooms/5178  20210804005827   2021-08-04   \n",
       "\n",
       "                                                name  \\\n",
       "0                              Skylit Midtown Castle   \n",
       "1  Whole flr w/private bdrm, bath & kitchen(pls r...   \n",
       "2                                    BlissArtsSpace!   \n",
       "3           Spacious Brooklyn Duplex, Patio + Garden   \n",
       "4                   Large Furnished Room Near B'way　   \n",
       "\n",
       "                                         description  \\\n",
       "0  Beautiful, spacious skylit studio in the heart...   \n",
       "1  Enjoy 500 s.f. top floor in 1899 brownstone, w...   \n",
       "2  <b>The space</b><br />HELLO EVERYONE AND THANK...   \n",
       "3  We welcome you to stay in our lovely 2 br dupl...   \n",
       "4  Please don’t expect the luxury here just a bas...   \n",
       "\n",
       "                               neighborhood_overview  \\\n",
       "0  Centrally located in the heart of Manhattan ju...   \n",
       "1  Just the right mix of urban center and local n...   \n",
       "2                                                NaN   \n",
       "3                                                NaN   \n",
       "4    Theater district, many restaurants around here.   \n",
       "\n",
       "                                         picture_url  host_id  \\\n",
       "0  https://a0.muscache.com/pictures/f0813a11-40b2...     2845   \n",
       "1  https://a0.muscache.com/pictures/e49999c2-9fd5...     4869   \n",
       "2  https://a0.muscache.com/pictures/2090980c-b68e...     7356   \n",
       "3  https://a0.muscache.com/pictures/miso/Hosting-...     7378   \n",
       "4  https://a0.muscache.com/pictures/12065/f070997...     8967   \n",
       "\n",
       "                                 host_url  ... review_scores_communication  \\\n",
       "0  https://www.airbnb.com/users/show/2845  ...                        4.79   \n",
       "1  https://www.airbnb.com/users/show/4869  ...                        4.81   \n",
       "2  https://www.airbnb.com/users/show/7356  ...                        4.91   \n",
       "3  https://www.airbnb.com/users/show/7378  ...                        5.00   \n",
       "4  https://www.airbnb.com/users/show/8967  ...                        4.40   \n",
       "\n",
       "  review_scores_location review_scores_value license instant_bookable  \\\n",
       "0                   4.86                4.41     NaN                f   \n",
       "1                   4.72                4.65     NaN                f   \n",
       "2                   4.47                4.52     NaN                f   \n",
       "3                   4.00                5.00     NaN                f   \n",
       "4                   4.86                4.35     NaN                f   \n",
       "\n",
       "  calculated_host_listings_count calculated_host_listings_count_entire_homes  \\\n",
       "0                              3                                           3   \n",
       "1                              1                                           1   \n",
       "2                              1                                           0   \n",
       "3                              1                                           1   \n",
       "4                              1                                           0   \n",
       "\n",
       "  calculated_host_listings_count_private_rooms  \\\n",
       "0                                            0   \n",
       "1                                            0   \n",
       "2                                            1   \n",
       "3                                            0   \n",
       "4                                            1   \n",
       "\n",
       "  calculated_host_listings_count_shared_rooms reviews_per_month  \n",
       "0                                           0              0.34  \n",
       "1                                           0              5.09  \n",
       "2                                           0              0.55  \n",
       "3                                           0              0.01  \n",
       "4                                           0              3.63  \n",
       "\n",
       "[5 rows x 74 columns]"
      ]
     },
     "execution_count": 45,
     "metadata": {},
     "output_type": "execute_result"
    }
   ],
   "source": [
    "filename = f\"./data/{LOC}/listings.csv\"\n",
    "lst = pd.read_csv(filename)\n",
    "lst.head()"
   ]
  },
  {
   "cell_type": "code",
   "execution_count": 90,
   "metadata": {},
   "outputs": [
    {
     "data": {
      "text/plain": [
       "0    $150.00\n",
       "1     $75.00\n",
       "2     $60.00\n",
       "3    $275.00\n",
       "4     $61.00\n",
       "Name: price, dtype: object"
      ]
     },
     "execution_count": 90,
     "metadata": {},
     "output_type": "execute_result"
    }
   ],
   "source": [
    "pre_covid_activity = pre_covid.groupby(pre_covid['listing_id']).size()\n",
    "covid_activity = covid.groupby(covid['listing_id']).size()\n",
    "pre_vaccine_activity = pre_vaccine.groupby(pre_vaccine['listing_id']).size()\n",
    "post_vaccine_activity = post_vaccine.groupby(post_vaccine['listing_id']).size()\n",
    "\n",
    "pre_covid_activity = pd.DataFrame(pre_covid_activity.reset_index(\"listing_id\"))\n",
    "pre_covid_activity.columns = ['id', 'pre_covid_activity']\n",
    "\n",
    "covid_activity = pd.DataFrame(covid_activity.reset_index(\"listing_id\"))\n",
    "covid_activity.columns = ['id', 'covid_activity']\n",
    "\n",
    "pre_vaccine_activity = pd.DataFrame(pre_vaccine_activity.reset_index(\"listing_id\"))\n",
    "pre_vaccine_activity.columns = ['id', 'pre_vaccine_activity']\n",
    "\n",
    "post_vaccine_activity = pd.DataFrame(post_vaccine_activity.reset_index(\"listing_id\"))\n",
    "post_vaccine_activity.columns = ['id', 'post_vaccine_activity']\n",
    "\n",
    "filename = f\"./data/{LOC}/listings.csv\"\n",
    "lst = pd.read_csv(filename)\n",
    "\n",
    "lst_merged = pd.merge(lst, pre_covid_activity, how=\"left\", on=[\"id\", \"id\"])\n",
    "lst_merged = pd.merge(lst_merged, covid_activity, how=\"left\", on=[\"id\", \"id\"])\n",
    "lst_merged = pd.merge(lst_merged, pre_vaccine_activity, how=\"left\", on=[\"id\", \"id\"])\n",
    "lst_merged = pd.merge(lst_merged, post_vaccine_activity, how=\"left\", on=[\"id\", \"id\"])"
   ]
  },
  {
   "cell_type": "code",
   "execution_count": 116,
   "metadata": {},
   "outputs": [
    {
     "ename": "AttributeError",
     "evalue": "Can only use .str accessor with string values!",
     "output_type": "error",
     "traceback": [
      "\u001b[1;31m---------------------------------------------------------------------------\u001b[0m",
      "\u001b[1;31mAttributeError\u001b[0m                            Traceback (most recent call last)",
      "\u001b[1;32m<ipython-input-116-8120840e23d6>\u001b[0m in \u001b[0;36m<module>\u001b[1;34m\u001b[0m\n\u001b[1;32m----> 1\u001b[1;33m \u001b[0mlst_merged\u001b[0m\u001b[1;33m.\u001b[0m\u001b[0mprice\u001b[0m \u001b[1;33m=\u001b[0m \u001b[0mlst_merged\u001b[0m\u001b[1;33m.\u001b[0m\u001b[0mprice\u001b[0m\u001b[1;33m.\u001b[0m\u001b[0mstr\u001b[0m\u001b[1;33m.\u001b[0m\u001b[0mreplace\u001b[0m\u001b[1;33m(\u001b[0m\u001b[1;34m'$'\u001b[0m\u001b[1;33m,\u001b[0m \u001b[1;34m''\u001b[0m\u001b[1;33m)\u001b[0m\u001b[1;33m\u001b[0m\u001b[1;33m\u001b[0m\u001b[0m\n\u001b[0m\u001b[0;32m      2\u001b[0m \u001b[0mlst_merged\u001b[0m\u001b[1;33m.\u001b[0m\u001b[0mprice\u001b[0m \u001b[1;33m=\u001b[0m \u001b[0mlst_merged\u001b[0m\u001b[1;33m.\u001b[0m\u001b[0mprice\u001b[0m\u001b[1;33m.\u001b[0m\u001b[0mstr\u001b[0m\u001b[1;33m.\u001b[0m\u001b[0mreplace\u001b[0m\u001b[1;33m(\u001b[0m\u001b[1;34m','\u001b[0m\u001b[1;33m,\u001b[0m \u001b[1;34m''\u001b[0m\u001b[1;33m)\u001b[0m\u001b[1;33m\u001b[0m\u001b[1;33m\u001b[0m\u001b[0m\n\u001b[0;32m      3\u001b[0m \u001b[0mlst_merged\u001b[0m\u001b[1;33m.\u001b[0m\u001b[0mprice\u001b[0m \u001b[1;33m=\u001b[0m \u001b[0mlst_merged\u001b[0m\u001b[1;33m.\u001b[0m\u001b[0mprice\u001b[0m\u001b[1;33m.\u001b[0m\u001b[0mastype\u001b[0m\u001b[1;33m(\u001b[0m\u001b[0mfloat\u001b[0m\u001b[1;33m)\u001b[0m\u001b[1;33m\u001b[0m\u001b[1;33m\u001b[0m\u001b[0m\n",
      "\u001b[1;32m~\\anaconda3\\lib\\site-packages\\pandas\\core\\generic.py\u001b[0m in \u001b[0;36m__getattr__\u001b[1;34m(self, name)\u001b[0m\n\u001b[0;32m   5459\u001b[0m             \u001b[1;32mor\u001b[0m \u001b[0mname\u001b[0m \u001b[1;32min\u001b[0m \u001b[0mself\u001b[0m\u001b[1;33m.\u001b[0m\u001b[0m_accessors\u001b[0m\u001b[1;33m\u001b[0m\u001b[1;33m\u001b[0m\u001b[0m\n\u001b[0;32m   5460\u001b[0m         ):\n\u001b[1;32m-> 5461\u001b[1;33m             \u001b[1;32mreturn\u001b[0m \u001b[0mobject\u001b[0m\u001b[1;33m.\u001b[0m\u001b[0m__getattribute__\u001b[0m\u001b[1;33m(\u001b[0m\u001b[0mself\u001b[0m\u001b[1;33m,\u001b[0m \u001b[0mname\u001b[0m\u001b[1;33m)\u001b[0m\u001b[1;33m\u001b[0m\u001b[1;33m\u001b[0m\u001b[0m\n\u001b[0m\u001b[0;32m   5462\u001b[0m         \u001b[1;32melse\u001b[0m\u001b[1;33m:\u001b[0m\u001b[1;33m\u001b[0m\u001b[1;33m\u001b[0m\u001b[0m\n\u001b[0;32m   5463\u001b[0m             \u001b[1;32mif\u001b[0m \u001b[0mself\u001b[0m\u001b[1;33m.\u001b[0m\u001b[0m_info_axis\u001b[0m\u001b[1;33m.\u001b[0m\u001b[0m_can_hold_identifiers_and_holds_name\u001b[0m\u001b[1;33m(\u001b[0m\u001b[0mname\u001b[0m\u001b[1;33m)\u001b[0m\u001b[1;33m:\u001b[0m\u001b[1;33m\u001b[0m\u001b[1;33m\u001b[0m\u001b[0m\n",
      "\u001b[1;32m~\\anaconda3\\lib\\site-packages\\pandas\\core\\accessor.py\u001b[0m in \u001b[0;36m__get__\u001b[1;34m(self, obj, cls)\u001b[0m\n\u001b[0;32m    178\u001b[0m             \u001b[1;31m# we're accessing the attribute of the class, i.e., Dataset.geo\u001b[0m\u001b[1;33m\u001b[0m\u001b[1;33m\u001b[0m\u001b[1;33m\u001b[0m\u001b[0m\n\u001b[0;32m    179\u001b[0m             \u001b[1;32mreturn\u001b[0m \u001b[0mself\u001b[0m\u001b[1;33m.\u001b[0m\u001b[0m_accessor\u001b[0m\u001b[1;33m\u001b[0m\u001b[1;33m\u001b[0m\u001b[0m\n\u001b[1;32m--> 180\u001b[1;33m         \u001b[0maccessor_obj\u001b[0m \u001b[1;33m=\u001b[0m \u001b[0mself\u001b[0m\u001b[1;33m.\u001b[0m\u001b[0m_accessor\u001b[0m\u001b[1;33m(\u001b[0m\u001b[0mobj\u001b[0m\u001b[1;33m)\u001b[0m\u001b[1;33m\u001b[0m\u001b[1;33m\u001b[0m\u001b[0m\n\u001b[0m\u001b[0;32m    181\u001b[0m         \u001b[1;31m# Replace the property with the accessor object. Inspired by:\u001b[0m\u001b[1;33m\u001b[0m\u001b[1;33m\u001b[0m\u001b[1;33m\u001b[0m\u001b[0m\n\u001b[0;32m    182\u001b[0m         \u001b[1;31m# https://www.pydanny.com/cached-property.html\u001b[0m\u001b[1;33m\u001b[0m\u001b[1;33m\u001b[0m\u001b[1;33m\u001b[0m\u001b[0m\n",
      "\u001b[1;32m~\\anaconda3\\lib\\site-packages\\pandas\\core\\strings\\accessor.py\u001b[0m in \u001b[0;36m__init__\u001b[1;34m(self, data)\u001b[0m\n\u001b[0;32m    152\u001b[0m         \u001b[1;32mfrom\u001b[0m \u001b[0mpandas\u001b[0m\u001b[1;33m.\u001b[0m\u001b[0mcore\u001b[0m\u001b[1;33m.\u001b[0m\u001b[0marrays\u001b[0m\u001b[1;33m.\u001b[0m\u001b[0mstring_\u001b[0m \u001b[1;32mimport\u001b[0m \u001b[0mStringDtype\u001b[0m\u001b[1;33m\u001b[0m\u001b[1;33m\u001b[0m\u001b[0m\n\u001b[0;32m    153\u001b[0m \u001b[1;33m\u001b[0m\u001b[0m\n\u001b[1;32m--> 154\u001b[1;33m         \u001b[0mself\u001b[0m\u001b[1;33m.\u001b[0m\u001b[0m_inferred_dtype\u001b[0m \u001b[1;33m=\u001b[0m \u001b[0mself\u001b[0m\u001b[1;33m.\u001b[0m\u001b[0m_validate\u001b[0m\u001b[1;33m(\u001b[0m\u001b[0mdata\u001b[0m\u001b[1;33m)\u001b[0m\u001b[1;33m\u001b[0m\u001b[1;33m\u001b[0m\u001b[0m\n\u001b[0m\u001b[0;32m    155\u001b[0m         \u001b[0mself\u001b[0m\u001b[1;33m.\u001b[0m\u001b[0m_is_categorical\u001b[0m \u001b[1;33m=\u001b[0m \u001b[0mis_categorical_dtype\u001b[0m\u001b[1;33m(\u001b[0m\u001b[0mdata\u001b[0m\u001b[1;33m.\u001b[0m\u001b[0mdtype\u001b[0m\u001b[1;33m)\u001b[0m\u001b[1;33m\u001b[0m\u001b[1;33m\u001b[0m\u001b[0m\n\u001b[0;32m    156\u001b[0m         \u001b[0mself\u001b[0m\u001b[1;33m.\u001b[0m\u001b[0m_is_string\u001b[0m \u001b[1;33m=\u001b[0m \u001b[0misinstance\u001b[0m\u001b[1;33m(\u001b[0m\u001b[0mdata\u001b[0m\u001b[1;33m.\u001b[0m\u001b[0mdtype\u001b[0m\u001b[1;33m,\u001b[0m \u001b[0mStringDtype\u001b[0m\u001b[1;33m)\u001b[0m\u001b[1;33m\u001b[0m\u001b[1;33m\u001b[0m\u001b[0m\n",
      "\u001b[1;32m~\\anaconda3\\lib\\site-packages\\pandas\\core\\strings\\accessor.py\u001b[0m in \u001b[0;36m_validate\u001b[1;34m(data)\u001b[0m\n\u001b[0;32m    215\u001b[0m \u001b[1;33m\u001b[0m\u001b[0m\n\u001b[0;32m    216\u001b[0m         \u001b[1;32mif\u001b[0m \u001b[0minferred_dtype\u001b[0m \u001b[1;32mnot\u001b[0m \u001b[1;32min\u001b[0m \u001b[0mallowed_types\u001b[0m\u001b[1;33m:\u001b[0m\u001b[1;33m\u001b[0m\u001b[1;33m\u001b[0m\u001b[0m\n\u001b[1;32m--> 217\u001b[1;33m             \u001b[1;32mraise\u001b[0m \u001b[0mAttributeError\u001b[0m\u001b[1;33m(\u001b[0m\u001b[1;34m\"Can only use .str accessor with string values!\"\u001b[0m\u001b[1;33m)\u001b[0m\u001b[1;33m\u001b[0m\u001b[1;33m\u001b[0m\u001b[0m\n\u001b[0m\u001b[0;32m    218\u001b[0m         \u001b[1;32mreturn\u001b[0m \u001b[0minferred_dtype\u001b[0m\u001b[1;33m\u001b[0m\u001b[1;33m\u001b[0m\u001b[0m\n\u001b[0;32m    219\u001b[0m \u001b[1;33m\u001b[0m\u001b[0m\n",
      "\u001b[1;31mAttributeError\u001b[0m: Can only use .str accessor with string values!"
     ]
    }
   ],
   "source": [
    "lst_merged.price = lst_merged.price.str.replace('$', '')\n",
    "lst_merged.price = lst_merged.price.str.replace(',', '')\n",
    "lst_merged.price = lst_merged.price.astype(float)"
   ]
  },
  {
   "cell_type": "code",
   "execution_count": 117,
   "metadata": {},
   "outputs": [
    {
     "name": "stdout",
     "output_type": "stream",
     "text": [
      "       accommodates         price  reviews_per_month  pre_covid_activity  \\\n",
      "count  36724.000000  36724.000000       27309.000000         7746.000000   \n",
      "mean       2.800920    160.109057           1.375435            3.456881   \n",
      "std        1.869686    293.888431           3.850175            4.560816   \n",
      "min        0.000000      0.000000           0.010000            1.000000   \n",
      "25%        2.000000     67.000000           0.110000            1.000000   \n",
      "50%        2.000000    108.000000           0.420000            2.000000   \n",
      "75%        4.000000    175.000000           1.450000            5.000000   \n",
      "max       16.000000  10000.000000         192.930000          217.000000   \n",
      "\n",
      "       covid_activity  pre_vaccine_activity  post_vaccine_activity  \n",
      "count     6741.000000           7128.000000           11494.000000  \n",
      "mean         3.700935              5.861672               8.415173  \n",
      "std          6.837159             11.186805              14.948063  \n",
      "min          1.000000              1.000000               1.000000  \n",
      "25%          1.000000              1.000000               1.000000  \n",
      "50%          2.000000              3.000000               4.000000  \n",
      "75%          4.000000              7.000000              11.000000  \n",
      "max        318.000000            347.000000             427.000000  \n"
     ]
    }
   ],
   "source": [
    "print(lst_merged[['accommodates', 'price','reviews_per_month','pre_covid_activity',\n",
    "                 'covid_activity','pre_vaccine_activity','post_vaccine_activity']].describe())"
   ]
  },
  {
   "cell_type": "code",
   "execution_count": 129,
   "metadata": {},
   "outputs": [
    {
     "name": "stdout",
     "output_type": "stream",
     "text": [
      "       accommodates         price  reviews_per_month  review_scores_rating  \\\n",
      "count  36724.000000  36724.000000       27309.000000          27309.000000   \n",
      "mean       2.800920    160.109057           1.375435              4.574993   \n",
      "std        1.869686    293.888431           3.850175              0.863975   \n",
      "min        0.000000      0.000000           0.010000              0.000000   \n",
      "25%        2.000000     67.000000           0.110000              4.560000   \n",
      "50%        2.000000    108.000000           0.420000              4.820000   \n",
      "75%        4.000000    175.000000           1.450000              5.000000   \n",
      "max       16.000000  10000.000000         192.930000              5.000000   \n",
      "\n",
      "       review_scores_accuracy  review_scores_cleanliness  \\\n",
      "count            26661.000000               26672.000000   \n",
      "mean                 4.751773                   4.612116   \n",
      "std                  0.485873                   0.572336   \n",
      "min                  0.000000                   0.000000   \n",
      "25%                  4.710000                   4.500000   \n",
      "50%                  4.910000                   4.800000   \n",
      "75%                  5.000000                   5.000000   \n",
      "max                  5.000000                   5.000000   \n",
      "\n",
      "       review_scores_checkin  review_scores_communication  \\\n",
      "count           26653.000000                 26664.000000   \n",
      "mean                4.820892                     4.817110   \n",
      "std                 0.433675                     0.453847   \n",
      "min                 0.000000                     0.000000   \n",
      "25%                 4.820000                     4.830000   \n",
      "50%                 4.960000                     4.980000   \n",
      "75%                 5.000000                     5.000000   \n",
      "max                 5.000000                     5.000000   \n",
      "\n",
      "       review_scores_location  review_scores_value  pre_covid_activity  \\\n",
      "count            26649.000000         26649.000000         7746.000000   \n",
      "mean                 4.754904             4.655163            3.456881   \n",
      "std                  0.414273             0.508667            4.560816   \n",
      "min                  0.000000             0.000000            1.000000   \n",
      "25%                  4.670000             4.560000            1.000000   \n",
      "50%                  4.880000             4.790000            2.000000   \n",
      "75%                  5.000000             5.000000            5.000000   \n",
      "max                  5.000000             5.000000          217.000000   \n",
      "\n",
      "       covid_activity  pre_vaccine_activity  post_vaccine_activity  \n",
      "count     6741.000000           7128.000000           11494.000000  \n",
      "mean         3.700935              5.861672               8.415173  \n",
      "std          6.837159             11.186805              14.948063  \n",
      "min          1.000000              1.000000               1.000000  \n",
      "25%          1.000000              1.000000               1.000000  \n",
      "50%          2.000000              3.000000               4.000000  \n",
      "75%          4.000000              7.000000              11.000000  \n",
      "max        318.000000            347.000000             427.000000  \n"
     ]
    }
   ],
   "source": [
    "print(lst_merged[['accommodates', 'price','reviews_per_month','review_scores_rating',\n",
    "                  'review_scores_accuracy', 'review_scores_cleanliness',\n",
    "                  'review_scores_checkin', 'review_scores_communication','review_scores_location', \n",
    "                  'review_scores_value','pre_covid_activity','covid_activity','pre_vaccine_activity',\n",
    "                  'post_vaccine_activity']].describe())\n",
    "\n"
   ]
  },
  {
   "cell_type": "code",
   "execution_count": 120,
   "metadata": {},
   "outputs": [],
   "source": [
    "pre_covid_lst = lst_merged[lst_merged.pre_covid_activity.notnull()]\n",
    "covid_lst = lst_merged[lst_merged.covid_activity.notnull()]\n",
    "pre_vaccine_lst = lst_merged[lst_merged.pre_vaccine_activity.notnull()]\n",
    "post_vaccine_lst = lst_merged[lst_merged.post_vaccine_activity.notnull()]"
   ]
  },
  {
   "cell_type": "code",
   "execution_count": 130,
   "metadata": {},
   "outputs": [
    {
     "name": "stdout",
     "output_type": "stream",
     "text": [
      "       accommodates        price  reviews_per_month  review_scores_rating  \\\n",
      "count   7746.000000  7746.000000        7746.000000           7746.000000   \n",
      "mean       3.105732   149.930545           2.075053              4.736689   \n",
      "std        2.023695   270.059258           4.513558              0.347713   \n",
      "min        0.000000     0.000000           0.030000              0.000000   \n",
      "25%        2.000000    69.000000           0.560000              4.652500   \n",
      "50%        2.000000   104.500000           1.390000              4.810000   \n",
      "75%        4.000000   169.000000           2.510000              4.920000   \n",
      "max       16.000000  9999.000000         174.000000              5.000000   \n",
      "\n",
      "       review_scores_accuracy  review_scores_cleanliness  \\\n",
      "count             7730.000000                7730.000000   \n",
      "mean                 4.813605                   4.708298   \n",
      "std                  0.252435                   0.321337   \n",
      "min                  1.000000                   1.000000   \n",
      "25%                  4.750000                   4.600000   \n",
      "50%                  4.880000                   4.790000   \n",
      "75%                  4.960000                   4.920000   \n",
      "max                  5.000000                   5.000000   \n",
      "\n",
      "       review_scores_checkin  review_scores_communication  \\\n",
      "count            7730.000000                  7730.000000   \n",
      "mean                4.869424                     4.868149   \n",
      "std                 0.211746                     0.219322   \n",
      "min                 1.000000                     1.000000   \n",
      "25%                 4.830000                     4.830000   \n",
      "50%                 4.920000                     4.930000   \n",
      "75%                 4.980000                     4.990000   \n",
      "max                 5.000000                     5.000000   \n",
      "\n",
      "       review_scores_location  review_scores_value  pre_covid_activity  \n",
      "count             7730.000000          7730.000000         7746.000000  \n",
      "mean                 4.782602             4.717556            3.456881  \n",
      "std                  0.222042             0.266282            4.560816  \n",
      "min                  1.000000             1.000000            1.000000  \n",
      "25%                  4.680000             4.640000            1.000000  \n",
      "50%                  4.830000             4.770000            2.000000  \n",
      "75%                  4.950000             4.870000            5.000000  \n",
      "max                  5.000000             5.000000          217.000000  \n"
     ]
    }
   ],
   "source": [
    "print(pre_covid_lst[['accommodates', 'price','reviews_per_month','review_scores_rating',\n",
    "                  'review_scores_accuracy', 'review_scores_cleanliness',\n",
    "                  'review_scores_checkin', 'review_scores_communication','review_scores_location', \n",
    "                  'review_scores_value','pre_covid_activity']].describe())"
   ]
  },
  {
   "cell_type": "code",
   "execution_count": 131,
   "metadata": {},
   "outputs": [
    {
     "name": "stdout",
     "output_type": "stream",
     "text": [
      "       accommodates        price  reviews_per_month  review_scores_rating  \\\n",
      "count   6741.000000  6741.000000        6741.000000           6741.000000   \n",
      "mean       3.156505   147.610740           2.474057              4.723799   \n",
      "std        2.070561   256.164087           5.382122              0.382942   \n",
      "min        0.000000     0.000000           0.030000              0.000000   \n",
      "25%        2.000000    68.000000           0.620000              4.650000   \n",
      "50%        2.000000   105.000000           1.570000              4.810000   \n",
      "75%        4.000000   167.000000           2.780000              4.920000   \n",
      "max       16.000000  9999.000000         174.000000              5.000000   \n",
      "\n",
      "       review_scores_accuracy  review_scores_cleanliness  \\\n",
      "count             6727.000000                6727.000000   \n",
      "mean                 4.795790                   4.702885   \n",
      "std                  0.299005                   0.348060   \n",
      "min                  1.000000                   1.000000   \n",
      "25%                  4.740000                   4.600000   \n",
      "50%                  4.870000                   4.790000   \n",
      "75%                  4.950000                   4.920000   \n",
      "max                  5.000000                   5.000000   \n",
      "\n",
      "       review_scores_checkin  review_scores_communication  \\\n",
      "count            6727.000000                  6727.000000   \n",
      "mean                4.855181                     4.850953   \n",
      "std                 0.261689                     0.275450   \n",
      "min                 1.000000                     1.000000   \n",
      "25%                 4.820000                     4.820000   \n",
      "50%                 4.920000                     4.930000   \n",
      "75%                 4.980000                     4.990000   \n",
      "max                 5.000000                     5.000000   \n",
      "\n",
      "       review_scores_location  review_scores_value  covid_activity  \n",
      "count             6727.000000          6727.000000     6741.000000  \n",
      "mean                 4.771385             4.700574        3.700935  \n",
      "std                  0.267065             0.321333        6.837159  \n",
      "min                  1.000000             1.000000        1.000000  \n",
      "25%                  4.680000             4.620000        1.000000  \n",
      "50%                  4.820000             4.770000        2.000000  \n",
      "75%                  4.940000             4.870000        4.000000  \n",
      "max                  5.000000             5.000000      318.000000  \n"
     ]
    }
   ],
   "source": [
    "print(covid_lst[['accommodates', 'price','reviews_per_month','review_scores_rating',\n",
    "                  'review_scores_accuracy', 'review_scores_cleanliness',\n",
    "                  'review_scores_checkin', 'review_scores_communication','review_scores_location', \n",
    "                  'review_scores_value','covid_activity']].describe())"
   ]
  },
  {
   "cell_type": "code",
   "execution_count": 132,
   "metadata": {
    "scrolled": true
   },
   "outputs": [
    {
     "name": "stdout",
     "output_type": "stream",
     "text": [
      "       accommodates        price  reviews_per_month  review_scores_rating  \\\n",
      "count   7128.000000  7128.000000        7128.000000           7128.000000   \n",
      "mean       3.182941   154.836841           2.753535              4.716277   \n",
      "std        2.090805   232.602250           5.705300              0.381082   \n",
      "min        0.000000     0.000000           0.020000              1.000000   \n",
      "25%        2.000000    70.000000           0.500000              4.630000   \n",
      "50%        2.000000   115.000000           1.480000              4.810000   \n",
      "75%        4.000000   175.000000           2.890000              4.930000   \n",
      "max       16.000000  9999.000000         131.320000              5.000000   \n",
      "\n",
      "       review_scores_accuracy  review_scores_cleanliness  \\\n",
      "count             7128.000000                7128.000000   \n",
      "mean                 4.778547                   4.690680   \n",
      "std                  0.357074                   0.395675   \n",
      "min                  1.000000                   1.000000   \n",
      "25%                  4.730000                   4.590000   \n",
      "50%                  4.870000                   4.800000   \n",
      "75%                  4.960000                   4.930000   \n",
      "max                  5.000000                   5.000000   \n",
      "\n",
      "       review_scores_checkin  review_scores_communication  \\\n",
      "count            7128.000000                  7128.000000   \n",
      "mean                4.845382                     4.828260   \n",
      "std                 0.303002                     0.353637   \n",
      "min                 1.000000                     1.000000   \n",
      "25%                 4.820000                     4.810000   \n",
      "50%                 4.920000                     4.930000   \n",
      "75%                 5.000000                     5.000000   \n",
      "max                 5.000000                     5.000000   \n",
      "\n",
      "       review_scores_location  review_scores_value  pre_vaccine_activity  \n",
      "count             7128.000000          7128.000000           7128.000000  \n",
      "mean                 4.771592             4.681104              5.861672  \n",
      "std                  0.298994             0.371081             11.186805  \n",
      "min                  1.000000             1.000000              1.000000  \n",
      "25%                  4.680000             4.600000              1.000000  \n",
      "50%                  4.830000             4.760000              3.000000  \n",
      "75%                  4.960000             4.880000              7.000000  \n",
      "max                  5.000000             5.000000            347.000000  \n"
     ]
    }
   ],
   "source": [
    "print(pre_vaccine_lst[['accommodates', 'price','reviews_per_month','review_scores_rating',\n",
    "                  'review_scores_accuracy', 'review_scores_cleanliness',\n",
    "                  'review_scores_checkin', 'review_scores_communication','review_scores_location', \n",
    "                  'review_scores_value','pre_vaccine_activity']].describe())"
   ]
  },
  {
   "cell_type": "code",
   "execution_count": 133,
   "metadata": {},
   "outputs": [
    {
     "name": "stdout",
     "output_type": "stream",
     "text": [
      "       accommodates         price  reviews_per_month  review_scores_rating  \\\n",
      "count  11494.000000  11494.000000       11494.000000          11494.000000   \n",
      "mean       3.099356    157.054202           2.668344              4.687350   \n",
      "std        2.057693    193.791763           5.627454              0.503083   \n",
      "min        0.000000      0.000000           0.020000              0.000000   \n",
      "25%        2.000000     72.000000           0.560000              4.620000   \n",
      "50%        2.000000    117.000000           1.350000              4.820000   \n",
      "75%        4.000000    180.000000           2.870000              5.000000   \n",
      "max       16.000000  10000.000000         192.930000              5.000000   \n",
      "\n",
      "       review_scores_accuracy  review_scores_cleanliness  \\\n",
      "count            11490.000000               11490.000000   \n",
      "mean                 4.743269                   4.664158   \n",
      "std                  0.477192                   0.505503   \n",
      "min                  1.000000                   1.000000   \n",
      "25%                  4.710000                   4.560000   \n",
      "50%                  4.890000                   4.810000   \n",
      "75%                  5.000000                   4.980000   \n",
      "max                  5.000000                   5.000000   \n",
      "\n",
      "       review_scores_checkin  review_scores_communication  \\\n",
      "count           11490.000000                 11490.000000   \n",
      "mean                4.814921                     4.798940   \n",
      "std                 0.431419                     0.466194   \n",
      "min                 1.000000                     1.000000   \n",
      "25%                 4.820000                     4.800000   \n",
      "50%                 4.940000                     4.950000   \n",
      "75%                 5.000000                     5.000000   \n",
      "max                 5.000000                     5.000000   \n",
      "\n",
      "       review_scores_location  review_scores_value  post_vaccine_activity  \n",
      "count            11490.000000          11490.00000           11494.000000  \n",
      "mean                 4.753222              4.64999               8.415173  \n",
      "std                  0.407811              0.49790              14.948063  \n",
      "min                  1.000000              1.00000               1.000000  \n",
      "25%                  4.670000              4.58000               1.000000  \n",
      "50%                  4.860000              4.78000               4.000000  \n",
      "75%                  5.000000              4.92000              11.000000  \n",
      "max                  5.000000              5.00000             427.000000  \n"
     ]
    }
   ],
   "source": [
    "print(post_vaccine_lst[['accommodates', 'price','reviews_per_month','review_scores_rating',\n",
    "                  'review_scores_accuracy', 'review_scores_cleanliness',\n",
    "                  'review_scores_checkin', 'review_scores_communication','review_scores_location', \n",
    "                  'review_scores_value','post_vaccine_activity']].describe())"
   ]
  },
  {
   "cell_type": "code",
   "execution_count": 157,
   "metadata": {},
   "outputs": [],
   "source": [
    "import pandas as pd\n",
    "import numpy as np\n",
    "import seaborn as sns\n",
    "import matplotlib.pyplot as plt"
   ]
  },
  {
   "cell_type": "code",
   "execution_count": 160,
   "metadata": {},
   "outputs": [
    {
     "data": {
      "image/png": "[encoded data removed]",
      "text/plain": [
       "<Figure size 432x288 with 1 Axes>"
      ]
     },
     "metadata": {},
     "output_type": "display_data"
    },
    {
     "data": {
      "image/png": "[encoded data removed]",
      "text/plain": [
       "<Figure size 432x288 with 1 Axes>"
      ]
     },
     "metadata": {},
     "output_type": "display_data"
    },
    {
     "data": {
      "image/png": "[encoded data removed]",
      "text/plain": [
       "<Figure size 432x288 with 1 Axes>"
      ]
     },
     "metadata": {},
     "output_type": "display_data"
    },
    {
     "data": {
      "image/png": "[encoded data removed]",
      "text/plain": [
       "<Figure size 432x288 with 1 Axes>"
      ]
     },
     "metadata": {},
     "output_type": "display_data"
    }
   ],
   "source": [
    "plt.scatter(pre_covid_lst.room_type\n",
    "             ,pre_covid_lst.pre_covid_activity)\n",
    "\n",
    "plt.show()\n",
    "plt.scatter(covid_lst.room_type\n",
    "             ,covid_lst.covid_activity)\n",
    "plt.show()\n",
    "plt.scatter(pre_vaccine_lst.room_type\n",
    "             ,pre_vaccine_lst.pre_vaccine_activity)\n",
    "plt.show()\n",
    "plt.scatter(post_vaccine_lst.room_type\n",
    "             ,post_vaccine_lst.post_vaccine_activity)\n",
    "\n",
    "plt.show()\n",
    "# , 'host_response_rate',\n",
    "#                                       'host_acceptance_rate', 'host_is_superhost',\n",
    "#                                       'host_has_profile_pic', 'host_identity_verified',\n",
    "#                                       'neighbourhood', 'neighbourhood_group_cleansed',\n",
    "#                                       'property_type', 'room_type', 'accommodates',\n",
    "#                                       'price' , 'minimum_nights', 'maximum_nights',\n",
    "#                                       'number_of_reviews','reviews_per_month'"
   ]
  },
  {
   "cell_type": "code",
   "execution_count": 165,
   "metadata": {},
   "outputs": [
    {
     "data": {
      "image/png": "[encoded data removed]",
      "text/plain": [
       "<Figure size 432x288 with 1 Axes>"
      ]
     },
     "metadata": {},
     "output_type": "display_data"
    }
   ],
   "source": [
    "plt.scatter(pre_covid_lst.minimum_nights\n",
    "             ,pre_covid_lst.pre_covid_activity)\n",
    "\n",
    "plt.xlim([-1, 50])\n",
    "plt.show()\n",
    "# plt.scatter(covid_lst.host_response_rate\n",
    "#              ,covid_lst.covid_activity)\n",
    "# # plt.show()\n",
    "# plt.scatter(pre_vaccine_lst.host_response_rate\n",
    "#              ,pre_vaccine_lst.pre_vaccine_activity)\n",
    "# # plt.show()\n",
    "# plt.scatter(post_vaccine_lst.host_response_rate\n",
    "#              ,post_vaccine_lst.post_vaccine_activity)\n",
    "\n",
    "# , 'host_response_rate',\n",
    "#                                       'host_acceptance_rate', 'host_is_superhost',\n",
    "#                                       'host_has_profile_pic', 'host_identity_verified',\n",
    "#                                       'neighbourhood', 'neighbourhood_group_cleansed',\n",
    "#                                       'property_type', 'room_type', 'accommodates',\n",
    "#                                       'price' , 'minimum_nights', 'maximum_nights',\n",
    "#                                       'number_of_reviews','reviews_per_month'"
   ]
  },
  {
   "cell_type": "code",
   "execution_count": 192,
   "metadata": {},
   "outputs": [
    {
     "data": {
      "text/plain": [
       "<seaborn.axisgrid.PairGrid at 0x211f7fa8ee0>"
      ]
     },
     "execution_count": 192,
     "metadata": {},
     "output_type": "execute_result"
    },
    {
     "data": {
      "image/png": "[encoded data removed]",
      "text/plain": [
       "<Figure size 540x180 with 3 Axes>"
      ]
     },
     "metadata": {},
     "output_type": "display_data"
    }
   ],
   "source": [
    "sns.pairplot(pre_covid_lst,x_vars=['host_is_superhost','host_has_profile_pic', 'host_identity_verified'],y_vars=['pre_covid_activity'])"
   ]
  },
  {
   "cell_type": "code",
   "execution_count": 193,
   "metadata": {},
   "outputs": [
    {
     "data": {
      "text/plain": [
       "<seaborn.axisgrid.PairGrid at 0x211f80649a0>"
      ]
     },
     "execution_count": 193,
     "metadata": {},
     "output_type": "execute_result"
    },
    {
     "data": {
      "image/png": "[encoded data removed]",
      "text/plain": [
       "<Figure size 540x180 with 3 Axes>"
      ]
     },
     "metadata": {},
     "output_type": "display_data"
    }
   ],
   "source": [
    "sns.pairplot(covid_lst,x_vars=['host_is_superhost','host_has_profile_pic', 'host_identity_verified'],y_vars=['covid_activity'])"
   ]
  },
  {
   "cell_type": "code",
   "execution_count": 194,
   "metadata": {},
   "outputs": [
    {
     "data": {
      "text/plain": [
       "<seaborn.axisgrid.PairGrid at 0x211fa116fd0>"
      ]
     },
     "execution_count": 194,
     "metadata": {},
     "output_type": "execute_result"
    },
    {
     "data": {
      "image/png": "[encoded data removed]",
      "text/plain": [
       "<Figure size 540x180 with 3 Axes>"
      ]
     },
     "metadata": {},
     "output_type": "display_data"
    }
   ],
   "source": [
    "sns.pairplot(pre_vaccine_lst,x_vars=['host_is_superhost','host_has_profile_pic', 'host_identity_verified'],y_vars=['pre_vaccine_activity'])"
   ]
  },
  {
   "cell_type": "code",
   "execution_count": 196,
   "metadata": {},
   "outputs": [
    {
     "data": {
      "text/plain": [
       "<seaborn.axisgrid.PairGrid at 0x211f5fd8880>"
      ]
     },
     "execution_count": 196,
     "metadata": {},
     "output_type": "execute_result"
    },
    {
     "data": {
      "image/png": "[encoded data removed]",
      "text/plain": [
       "<Figure size 540x180 with 3 Axes>"
      ]
     },
     "metadata": {},
     "output_type": "display_data"
    }
   ],
   "source": [
    "sns.pairplot(post_vaccine_lst,x_vars=['host_is_superhost','host_has_profile_pic', 'host_identity_verified'],y_vars=['post_vaccine_activity'])"
   ]
  },
  {
   "cell_type": "code",
   "execution_count": 181,
   "metadata": {},
   "outputs": [
    {
     "data": {
      "image/png": "[encoded data removed]",
      "text/plain": [
       "<Figure size 432x288 with 1 Axes>"
      ]
     },
     "metadata": {},
     "output_type": "display_data"
    },
    {
     "data": {
      "image/png": "[encoded data removed]",
      "text/plain": [
       "<Figure size 432x288 with 1 Axes>"
      ]
     },
     "metadata": {},
     "output_type": "display_data"
    },
    {
     "data": {
      "image/png": "[encoded data removed]",
      "text/plain": [
       "<Figure size 432x288 with 1 Axes>"
      ]
     },
     "metadata": {},
     "output_type": "display_data"
    },
    {
     "data": {
      "image/png": "[encoded data removed]",
      "text/plain": [
       "<Figure size 432x288 with 1 Axes>"
      ]
     },
     "metadata": {},
     "output_type": "display_data"
    }
   ],
   "source": [
    "plt.scatter(pre_covid_lst.accommodates,pre_covid_lst.pre_covid_activity)\n",
    "plt.show()\n",
    "plt.scatter(covid_lst.accommodates,covid_lst.covid_activity)\n",
    "plt.show()\n",
    "plt.scatter(pre_vaccine_lst.accommodates,pre_vaccine_lst.pre_vaccine_activity)\n",
    "plt.show()\n",
    "plt.scatter(post_vaccine_lst.accommodates,post_vaccine_lst.post_vaccine_activity)\n",
    "plt.show()"
   ]
  },
  {
   "cell_type": "code",
   "execution_count": 202,
   "metadata": {
    "scrolled": false
   },
   "outputs": [
    {
     "data": {
      "text/html": [
       "<div>\n",
       "<style scoped>\n",
       "    .dataframe tbody tr th:only-of-type {\n",
       "        vertical-align: middle;\n",
       "    }\n",
       "\n",
       "    .dataframe tbody tr th {\n",
       "        vertical-align: top;\n",
       "    }\n",
       "\n",
       "    .dataframe thead th {\n",
       "        text-align: right;\n",
       "    }\n",
       "</style>\n",
       "<table border=\"1\" class=\"dataframe\">\n",
       "  <thead>\n",
       "    <tr style=\"text-align: right;\">\n",
       "      <th></th>\n",
       "      <th>neighbourhood</th>\n",
       "      <th>pre_covid_activity</th>\n",
       "    </tr>\n",
       "  </thead>\n",
       "  <tbody>\n",
       "    <tr>\n",
       "      <th>0</th>\n",
       "      <td>Bushwick,Brooklyn, New York, United States</td>\n",
       "      <td>1.0</td>\n",
       "    </tr>\n",
       "    <tr>\n",
       "      <th>68</th>\n",
       "      <td>New York - Sunnyside , New York, United States</td>\n",
       "      <td>1.0</td>\n",
       "    </tr>\n",
       "    <tr>\n",
       "      <th>69</th>\n",
       "      <td>New York City, New York, United States</td>\n",
       "      <td>1.0</td>\n",
       "    </tr>\n",
       "    <tr>\n",
       "      <th>71</th>\n",
       "      <td>New York, US, New York, United States</td>\n",
       "      <td>1.0</td>\n",
       "    </tr>\n",
       "    <tr>\n",
       "      <th>74</th>\n",
       "      <td>New york, Ny, United States</td>\n",
       "      <td>1.0</td>\n",
       "    </tr>\n",
       "    <tr>\n",
       "      <th>...</th>\n",
       "      <td>...</td>\n",
       "      <td>...</td>\n",
       "    </tr>\n",
       "    <tr>\n",
       "      <th>16</th>\n",
       "      <td>Brooklyn , New York, United States</td>\n",
       "      <td>382.0</td>\n",
       "    </tr>\n",
       "    <tr>\n",
       "      <th>15</th>\n",
       "      <td>Bronx, New York, United States</td>\n",
       "      <td>515.0</td>\n",
       "    </tr>\n",
       "    <tr>\n",
       "      <th>86</th>\n",
       "      <td>Queens, New York, United States</td>\n",
       "      <td>2905.0</td>\n",
       "    </tr>\n",
       "    <tr>\n",
       "      <th>72</th>\n",
       "      <td>New York, United States</td>\n",
       "      <td>7637.0</td>\n",
       "    </tr>\n",
       "    <tr>\n",
       "      <th>17</th>\n",
       "      <td>Brooklyn, New York, United States</td>\n",
       "      <td>8341.0</td>\n",
       "    </tr>\n",
       "  </tbody>\n",
       "</table>\n",
       "<p>128 rows × 2 columns</p>\n",
       "</div>"
      ],
      "text/plain": [
       "                                     neighbourhood  pre_covid_activity\n",
       "0       Bushwick,Brooklyn, New York, United States                 1.0\n",
       "68  New York - Sunnyside , New York, United States                 1.0\n",
       "69          New York City, New York, United States                 1.0\n",
       "71           New York, US, New York, United States                 1.0\n",
       "74                     New york, Ny, United States                 1.0\n",
       "..                                             ...                 ...\n",
       "16              Brooklyn , New York, United States               382.0\n",
       "15                  Bronx, New York, United States               515.0\n",
       "86                 Queens, New York, United States              2905.0\n",
       "72                         New York, United States              7637.0\n",
       "17               Brooklyn, New York, United States              8341.0\n",
       "\n",
       "[128 rows x 2 columns]"
      ]
     },
     "execution_count": 202,
     "metadata": {},
     "output_type": "execute_result"
    }
   ],
   "source": [
    "pre_covid_lst.groupby('neighbourhood')['pre_covid_activity'].sum().reset_index().sort_values('pre_covid_activity')"
   ]
  },
  {
   "cell_type": "code",
   "execution_count": 187,
   "metadata": {
    "scrolled": true
   },
   "outputs": [
    {
     "data": {
      "text/plain": [
       "accommodates\n",
       "0        27.0\n",
       "1      1786.0\n",
       "2     12071.0\n",
       "3      2348.0\n",
       "4      4221.0\n",
       "5      1251.0\n",
       "6      1639.0\n",
       "7       309.0\n",
       "8       703.0\n",
       "9        86.0\n",
       "10      225.0\n",
       "11       47.0\n",
       "12       73.0\n",
       "13       39.0\n",
       "14       19.0\n",
       "15        3.0\n",
       "16      101.0\n",
       "Name: covid_activity, dtype: float64"
      ]
     },
     "execution_count": 187,
     "metadata": {},
     "output_type": "execute_result"
    }
   ],
   "source": [
    "covid_lst.groupby('accommodates')['covid_activity'].sum()"
   ]
  },
  {
   "cell_type": "code",
   "execution_count": 190,
   "metadata": {},
   "outputs": [
    {
     "data": {
      "text/plain": [
       "accommodates\n",
       "0        45.0\n",
       "1      2559.0\n",
       "2     19797.0\n",
       "3      4148.0\n",
       "4      7429.0\n",
       "5      2266.0\n",
       "6      2782.0\n",
       "7       507.0\n",
       "8       992.0\n",
       "9       139.0\n",
       "10      426.0\n",
       "11       99.0\n",
       "12      251.0\n",
       "13       76.0\n",
       "14       26.0\n",
       "15       38.0\n",
       "16      202.0\n",
       "Name: pre_vaccine_activity, dtype: float64"
      ]
     },
     "execution_count": 190,
     "metadata": {},
     "output_type": "execute_result"
    }
   ],
   "source": [
    "pre_vaccine_lst.groupby('accommodates')['pre_vaccine_activity'].sum()"
   ]
  },
  {
   "cell_type": "code",
   "execution_count": 191,
   "metadata": {},
   "outputs": [
    {
     "data": {
      "text/plain": [
       "accommodates\n",
       "0       188.0\n",
       "1      6503.0\n",
       "2     45309.0\n",
       "3      8835.0\n",
       "4     18071.0\n",
       "5      5482.0\n",
       "6      6793.0\n",
       "7      1305.0\n",
       "8      2270.0\n",
       "9       242.0\n",
       "10      684.0\n",
       "11      202.0\n",
       "12      321.0\n",
       "13      139.0\n",
       "14       71.0\n",
       "15       84.0\n",
       "16      225.0\n",
       "Name: post_vaccine_activity, dtype: float64"
      ]
     },
     "execution_count": 191,
     "metadata": {},
     "output_type": "execute_result"
    }
   ],
   "source": [
    "post_vaccine_lst.groupby('accommodates')['post_vaccine_activity'].sum()"
   ]
  },
  {
   "cell_type": "code",
   "execution_count": null,
   "metadata": {},
   "outputs": [],
   "source": [
    "plt.scatter(pre_covid_lst.price,pre_covid_lst.pre_covid_activity)\n",
    "plt.show()\n",
    "plt.scatter(pre_covid_lst.number_of_reviews,pre_covid_lst.pre_covid_activity)\n",
    "plt.show()\n",
    "plt.scatter(pre_covid_lst.reviews_per_month,pre_covid_lst.pre_covid_activity)"
   ]
  },
  {
   "cell_type": "code",
   "execution_count": null,
   "metadata": {},
   "outputs": [],
   "source": []
  }
 ],
 "metadata": {
  "kernelspec": {
   "display_name": "Python 3",
   "language": "python",
   "name": "python3"
  },
  "language_info": {
   "codemirror_mode": {
    "name": "ipython",
    "version": 3
   },
   "file_extension": ".py",
   "mimetype": "text/x-python",
   "name": "python",
   "nbconvert_exporter": "python",
   "pygments_lexer": "ipython3",
   "version": "3.8.8"
  }
 },
 "nbformat": 4,
 "nbformat_minor": 4
}
