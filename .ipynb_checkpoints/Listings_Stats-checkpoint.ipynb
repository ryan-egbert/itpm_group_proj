{
 "cells": [
  {
   "cell_type": "markdown",
   "metadata": {},
   "source": [
    "# Loading Listings File"
   ]
  },
  {
   "cell_type": "code",
   "execution_count": null,
   "metadata": {},
   "outputs": [],
   "source": [
    "filename = f\"./data/{LOC}/listings.csv\"\n",
    "lst = pd.read_csv(filename)\n",
    "lst.head()"
   ]
  },
  {
   "cell_type": "markdown",
   "metadata": {},
   "source": [
    "# Grouping the comments by Listing ID to get Activity Rate"
   ]
  },
  {
   "cell_type": "code",
   "execution_count": null,
   "metadata": {},
   "outputs": [],
   "source": [
    "pre_covid_activity = pre_covid.groupby(pre_covid['listing_id']).size()\n",
    "covid_activity = covid.groupby(covid['listing_id']).size()\n",
    "pre_vaccine_activity = pre_vaccine.groupby(pre_vaccine['listing_id']).size()\n",
    "post_vaccine_activity = post_vaccine.groupby(post_vaccine['listing_id']).size()\n",
    "\n",
    "pre_covid_activity = pd.DataFrame(pre_covid_activity.reset_index(\"listing_id\"))\n",
    "pre_covid_activity.columns = ['id', 'pre_covid_activity']\n",
    "\n",
    "covid_activity = pd.DataFrame(covid_activity.reset_index(\"listing_id\"))\n",
    "covid_activity.columns = ['id', 'covid_activity']\n",
    "\n",
    "pre_vaccine_activity = pd.DataFrame(pre_vaccine_activity.reset_index(\"listing_id\"))\n",
    "pre_vaccine_activity.columns = ['id', 'pre_vaccine_activity']\n",
    "\n",
    "post_vaccine_activity = pd.DataFrame(post_vaccine_activity.reset_index(\"listing_id\"))\n",
    "post_vaccine_activity.columns = ['id', 'post_vaccine_activity']\n"
   ]
  },
  {
   "cell_type": "markdown",
   "metadata": {},
   "source": [
    "# Merge Activity Rate with Listings DF"
   ]
  },
  {
   "cell_type": "code",
   "execution_count": null,
   "metadata": {},
   "outputs": [],
   "source": [
    "lst_merged = pd.merge(lst, pre_covid_activity, how=\"left\", on=[\"id\", \"id\"])\n",
    "lst_merged = pd.merge(lst_merged, covid_activity, how=\"left\", on=[\"id\", \"id\"])\n",
    "lst_merged = pd.merge(lst_merged, pre_vaccine_activity, how=\"left\", on=[\"id\", \"id\"])\n",
    "lst_merged = pd.merge(lst_merged, post_vaccine_activity, how=\"left\", on=[\"id\", \"id\"])"
   ]
  },
  {
   "cell_type": "markdown",
   "metadata": {},
   "source": [
    "# Clean Price Column"
   ]
  },
  {
   "cell_type": "code",
   "execution_count": null,
   "metadata": {},
   "outputs": [],
   "source": [
    "lst_merged.price = lst_merged.price.str.replace('$', '')\n",
    "lst_merged.price = lst_merged.price.str.replace(',', '')\n",
    "lst_merged.price = lst_merged.price.astype(float)"
   ]
  },
  {
   "cell_type": "markdown",
   "metadata": {},
   "source": [
    "# Descriptive Stats"
   ]
  },
  {
   "cell_type": "code",
   "execution_count": null,
   "metadata": {},
   "outputs": [],
   "source": [
    "print(lst_merged[['accommodates', 'price','reviews_per_month','review_scores_rating',\n",
    "                  'review_scores_accuracy', 'review_scores_cleanliness',\n",
    "                  'review_scores_checkin', 'review_scores_communication','review_scores_location', \n",
    "                  'review_scores_value','pre_covid_activity','covid_activity','pre_vaccine_activity',\n",
    "                  'post_vaccine_activity']].describe())"
   ]
  },
  {
   "cell_type": "markdown",
   "metadata": {},
   "source": [
    "# Split listing DF by period based on activity column"
   ]
  },
  {
   "cell_type": "code",
   "execution_count": null,
   "metadata": {},
   "outputs": [],
   "source": [
    "pre_covid_lst = lst_merged[lst_merged.pre_covid_activity.notnull()]\n",
    "covid_lst = lst_merged[lst_merged.covid_activity.notnull()]\n",
    "pre_vaccine_lst = lst_merged[lst_merged.pre_vaccine_activity.notnull()]\n",
    "post_vaccine_lst = lst_merged[lst_merged.post_vaccine_activity.notnull()]"
   ]
  },
  {
   "cell_type": "markdown",
   "metadata": {},
   "source": [
    "# Descriptive Stats"
   ]
  },
  {
   "cell_type": "code",
   "execution_count": null,
   "metadata": {},
   "outputs": [],
   "source": [
    "print(pre_covid_lst[['accommodates', 'price','reviews_per_month','review_scores_rating',\n",
    "                  'review_scores_accuracy', 'review_scores_cleanliness',\n",
    "                  'review_scores_checkin', 'review_scores_communication','review_scores_location', \n",
    "                  'review_scores_value','pre_covid_activity']].describe())"
   ]
  },
  {
   "cell_type": "code",
   "execution_count": null,
   "metadata": {},
   "outputs": [],
   "source": [
    "print(covid_lst[['accommodates', 'price','reviews_per_month','review_scores_rating',\n",
    "                  'review_scores_accuracy', 'review_scores_cleanliness',\n",
    "                  'review_scores_checkin', 'review_scores_communication','review_scores_location', \n",
    "                  'review_scores_value','covid_activity']].describe())"
   ]
  },
  {
   "cell_type": "code",
   "execution_count": null,
   "metadata": {},
   "outputs": [],
   "source": [
    "print(pre_vaccine_lst[['accommodates', 'price','reviews_per_month','review_scores_rating',\n",
    "                  'review_scores_accuracy', 'review_scores_cleanliness',\n",
    "                  'review_scores_checkin', 'review_scores_communication','review_scores_location', \n",
    "                  'review_scores_value','pre_vaccine_activity']].describe())"
   ]
  },
  {
   "cell_type": "code",
   "execution_count": null,
   "metadata": {},
   "outputs": [],
   "source": [
    "print(post_vaccine_lst[['accommodates', 'price','reviews_per_month','review_scores_rating',\n",
    "                  'review_scores_accuracy', 'review_scores_cleanliness',\n",
    "                  'review_scores_checkin', 'review_scores_communication','review_scores_location', \n",
    "                  'review_scores_value','post_vaccine_activity']].describe())"
   ]
  }
 ],
 "metadata": {
  "kernelspec": {
   "display_name": "Python 3",
   "language": "python",
   "name": "python3"
  },
  "language_info": {
   "codemirror_mode": {
    "name": "ipython",
    "version": 3
   },
   "file_extension": ".py",
   "mimetype": "text/x-python",
   "name": "python",
   "nbconvert_exporter": "python",
   "pygments_lexer": "ipython3",
   "version": "3.7.7"
  }
 },
 "nbformat": 4,
 "nbformat_minor": 5
}
